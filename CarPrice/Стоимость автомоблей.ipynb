{
  "nbformat": 4,
  "nbformat_minor": 0,
  "metadata": {
    "kernelspec": {
      "display_name": "Python 3",
      "language": "python",
      "name": "python3"
    },
    "language_info": {
      "codemirror_mode": {
        "name": "ipython",
        "version": 3
      },
      "file_extension": ".py",
      "mimetype": "text/x-python",
      "name": "python",
      "nbconvert_exporter": "python",
      "pygments_lexer": "ipython3",
      "version": "3.7.8"
    },
    "toc": {
      "base_numbering": 1,
      "nav_menu": {},
      "number_sections": true,
      "sideBar": true,
      "skip_h1_title": true,
      "title_cell": "Table of Contents",
      "title_sidebar": "Contents",
      "toc_cell": false,
      "toc_position": {
        "height": "calc(100% - 180px)",
        "left": "10px",
        "top": "150px",
        "width": "299.188px"
      },
      "toc_section_display": true,
      "toc_window_display": true
    },
    "colab": {
      "name": "578283bc-1fcc-49dd-af05-1698d71a2c7d.ipynb",
      "provenance": [],
      "collapsed_sections": [],
      "toc_visible": true
    }
  },
  "cells": [
    {
      "cell_type": "markdown",
      "metadata": {
        "id": "vCQ0Qy38uKw2"
      },
      "source": [
        "# Определение стоимости автомобилей"
      ]
    },
    {
      "cell_type": "markdown",
      "metadata": {
        "id": "09kTLCJRuKw2"
      },
      "source": [
        "Сервис по продаже автомобилей с пробегом разрабатывает приложение для определения рыночной стоимости своего автомобиля. Нужно построить модель для определения стоимости. \n",
        "\n",
        "Заказчику важны:\n",
        "\n",
        "- качество предсказания;\n",
        "- скорость предсказания;\n",
        "- время обучения."
      ]
    },
    {
      "cell_type": "markdown",
      "metadata": {
        "id": "y7FRMCwtuKw3"
      },
      "source": [
        "# Описание данных\n",
        "# Признаки\n",
        "- DateCrawled — дата скачивания анкеты из базы\n",
        "- VehicleType — тип автомобильного кузова\n",
        "- RegistrationYear — год регистрации автомобиля\n",
        "- Gearbox — тип коробки передач\n",
        "- Power — мощность (л. с.)\n",
        "- Model — модель автомобиля\n",
        "- Kilometer — пробег (км)\n",
        "- RegistrationMonth — месяц регистрации автомобиля\n",
        "- FuelType — тип топлива\n",
        "- Brand — марка автомобиля\n",
        "- NotRepaired — была машина в ремонте или нет\n",
        "- DateCreated — дата создания анкеты\n",
        "- NumberOfPictures — количество фотографий автомобиля\n",
        "- PostalCode — почтовый индекс владельца анкеты (пользователя)\n",
        "- LastSeen — дата последней активности пользователя\n",
        "\n",
        "# Целевой признак\n",
        "- Price — цена (евро)"
      ]
    },
    {
      "cell_type": "markdown",
      "metadata": {
        "id": "he9y5QaXuKw3"
      },
      "source": [
        "# Инструкция по выполнению проекта\n",
        "Чтобы усилить исследование, не ограничивайтесь градиентным бустингом. Попробуйте более простые модели — иногда они работают лучше. Это редкие случаи, которые легко пропустить, если всегда применять только бустинг. Поэкспериментируйте и сравните характеристики моделей: скорость работы, точность результата."
      ]
    },
    {
      "cell_type": "markdown",
      "metadata": {
        "id": "1O8Co5neuKw4"
      },
      "source": [
        "## Подготовка данных"
      ]
    },
    {
      "cell_type": "code",
      "metadata": {
        "id": "k4BIal0NuKw5",
        "colab": {
          "base_uri": "https://localhost:8080/"
        },
        "outputId": "33b29f91-b511-4960-cd01-ae0b7eae4319"
      },
      "source": [
        "!pip install -U scikit-learn"
      ],
      "execution_count": null,
      "outputs": [
        {
          "output_type": "stream",
          "text": [
            "Collecting scikit-learn\n",
            "\u001b[?25l  Downloading https://files.pythonhosted.org/packages/a8/eb/a48f25c967526b66d5f1fa7a984594f0bf0a5afafa94a8c4dbc317744620/scikit_learn-0.24.2-cp37-cp37m-manylinux2010_x86_64.whl (22.3MB)\n",
            "\u001b[K     |████████████████████████████████| 22.3MB 181kB/s \n",
            "\u001b[?25hRequirement already satisfied, skipping upgrade: joblib>=0.11 in /usr/local/lib/python3.7/dist-packages (from scikit-learn) (1.0.1)\n",
            "Requirement already satisfied, skipping upgrade: scipy>=0.19.1 in /usr/local/lib/python3.7/dist-packages (from scikit-learn) (1.4.1)\n",
            "Collecting threadpoolctl>=2.0.0\n",
            "  Downloading https://files.pythonhosted.org/packages/f7/12/ec3f2e203afa394a149911729357aa48affc59c20e2c1c8297a60f33f133/threadpoolctl-2.1.0-py3-none-any.whl\n",
            "Requirement already satisfied, skipping upgrade: numpy>=1.13.3 in /usr/local/lib/python3.7/dist-packages (from scikit-learn) (1.19.5)\n",
            "Installing collected packages: threadpoolctl, scikit-learn\n",
            "  Found existing installation: scikit-learn 0.22.2.post1\n",
            "    Uninstalling scikit-learn-0.22.2.post1:\n",
            "      Successfully uninstalled scikit-learn-0.22.2.post1\n",
            "Successfully installed scikit-learn-0.24.2 threadpoolctl-2.1.0\n"
          ],
          "name": "stdout"
        }
      ]
    },
    {
      "cell_type": "code",
      "metadata": {
        "id": "nqmXjCYMvnwx",
        "colab": {
          "base_uri": "https://localhost:8080/"
        },
        "outputId": "37f68e25-a2e9-42c9-f188-1834da9cc71f"
      },
      "source": [
        "!pip install catboost"
      ],
      "execution_count": null,
      "outputs": [
        {
          "output_type": "stream",
          "text": [
            "Collecting catboost\n",
            "\u001b[?25l  Downloading https://files.pythonhosted.org/packages/5a/41/24e14322b9986cf72a8763e0a0a69cc256cf963cf9502c8f0044a62c1ae8/catboost-0.26-cp37-none-manylinux1_x86_64.whl (69.2MB)\n",
            "\u001b[K     |████████████████████████████████| 69.2MB 65kB/s \n",
            "\u001b[?25hRequirement already satisfied: six in /usr/local/lib/python3.7/dist-packages (from catboost) (1.15.0)\n",
            "Requirement already satisfied: scipy in /usr/local/lib/python3.7/dist-packages (from catboost) (1.4.1)\n",
            "Requirement already satisfied: graphviz in /usr/local/lib/python3.7/dist-packages (from catboost) (0.10.1)\n",
            "Requirement already satisfied: pandas>=0.24.0 in /usr/local/lib/python3.7/dist-packages (from catboost) (1.1.5)\n",
            "Requirement already satisfied: numpy>=1.16.0 in /usr/local/lib/python3.7/dist-packages (from catboost) (1.19.5)\n",
            "Requirement already satisfied: matplotlib in /usr/local/lib/python3.7/dist-packages (from catboost) (3.2.2)\n",
            "Requirement already satisfied: plotly in /usr/local/lib/python3.7/dist-packages (from catboost) (4.4.1)\n",
            "Requirement already satisfied: python-dateutil>=2.7.3 in /usr/local/lib/python3.7/dist-packages (from pandas>=0.24.0->catboost) (2.8.1)\n",
            "Requirement already satisfied: pytz>=2017.2 in /usr/local/lib/python3.7/dist-packages (from pandas>=0.24.0->catboost) (2018.9)\n",
            "Requirement already satisfied: kiwisolver>=1.0.1 in /usr/local/lib/python3.7/dist-packages (from matplotlib->catboost) (1.3.1)\n",
            "Requirement already satisfied: pyparsing!=2.0.4,!=2.1.2,!=2.1.6,>=2.0.1 in /usr/local/lib/python3.7/dist-packages (from matplotlib->catboost) (2.4.7)\n",
            "Requirement already satisfied: cycler>=0.10 in /usr/local/lib/python3.7/dist-packages (from matplotlib->catboost) (0.10.0)\n",
            "Requirement already satisfied: retrying>=1.3.3 in /usr/local/lib/python3.7/dist-packages (from plotly->catboost) (1.3.3)\n",
            "Installing collected packages: catboost\n",
            "Successfully installed catboost-0.26\n"
          ],
          "name": "stdout"
        }
      ]
    },
    {
      "cell_type": "code",
      "metadata": {
        "id": "AqUH_-JOuKw6"
      },
      "source": [
        "import numpy as np\n",
        "import pandas as pd\n",
        "import time\n",
        "\n",
        "from sklearn.preprocessing import StandardScaler, OneHotEncoder\n",
        "from sklearn.compose import ColumnTransformer\n",
        "\n",
        "from sklearn.model_selection import train_test_split\n",
        "from sklearn.model_selection import GridSearchCV\n",
        "from sklearn.metrics import mean_squared_error, make_scorer\n",
        "\n",
        "from sklearn.neighbors import KNeighborsClassifier\n",
        "from sklearn.linear_model import LinearRegression\n",
        "from sklearn.dummy import DummyRegressor\n",
        "from sklearn.pipeline import Pipeline\n",
        "from sklearn.ensemble import RandomForestRegressor\n",
        "from lightgbm import LGBMRegressor\n",
        "from catboost import CatBoostRegressor\n",
        "\n",
        "import warnings\n",
        "warnings.filterwarnings('ignore')\n",
        "warnings.simplefilter('ignore')"
      ],
      "execution_count": null,
      "outputs": []
    },
    {
      "cell_type": "code",
      "metadata": {
        "id": "mj5hr0a-uKw6",
        "colab": {
          "base_uri": "https://localhost:8080/",
          "height": 719
        },
        "outputId": "d4c8563a-b036-4298-fc77-282c60ac2250"
      },
      "source": [
        "\n",
        "df.head(10)"
      ],
      "execution_count": null,
      "outputs": [
        {
          "output_type": "execute_result",
          "data": {
            "text/html": [
              "<div>\n",
              "<style scoped>\n",
              "    .dataframe tbody tr th:only-of-type {\n",
              "        vertical-align: middle;\n",
              "    }\n",
              "\n",
              "    .dataframe tbody tr th {\n",
              "        vertical-align: top;\n",
              "    }\n",
              "\n",
              "    .dataframe thead th {\n",
              "        text-align: right;\n",
              "    }\n",
              "</style>\n",
              "<table border=\"1\" class=\"dataframe\">\n",
              "  <thead>\n",
              "    <tr style=\"text-align: right;\">\n",
              "      <th></th>\n",
              "      <th>DateCrawled</th>\n",
              "      <th>Price</th>\n",
              "      <th>VehicleType</th>\n",
              "      <th>RegistrationYear</th>\n",
              "      <th>Gearbox</th>\n",
              "      <th>Power</th>\n",
              "      <th>Model</th>\n",
              "      <th>Kilometer</th>\n",
              "      <th>RegistrationMonth</th>\n",
              "      <th>FuelType</th>\n",
              "      <th>Brand</th>\n",
              "      <th>NotRepaired</th>\n",
              "      <th>DateCreated</th>\n",
              "      <th>NumberOfPictures</th>\n",
              "      <th>PostalCode</th>\n",
              "      <th>LastSeen</th>\n",
              "    </tr>\n",
              "  </thead>\n",
              "  <tbody>\n",
              "    <tr>\n",
              "      <th>0</th>\n",
              "      <td>2016-03-24 11:52:17</td>\n",
              "      <td>480</td>\n",
              "      <td>NaN</td>\n",
              "      <td>1993</td>\n",
              "      <td>manual</td>\n",
              "      <td>0</td>\n",
              "      <td>golf</td>\n",
              "      <td>150000</td>\n",
              "      <td>0</td>\n",
              "      <td>petrol</td>\n",
              "      <td>volkswagen</td>\n",
              "      <td>NaN</td>\n",
              "      <td>2016-03-24 00:00:00</td>\n",
              "      <td>0</td>\n",
              "      <td>70435</td>\n",
              "      <td>2016-04-07 03:16:57</td>\n",
              "    </tr>\n",
              "    <tr>\n",
              "      <th>1</th>\n",
              "      <td>2016-03-24 10:58:45</td>\n",
              "      <td>18300</td>\n",
              "      <td>coupe</td>\n",
              "      <td>2011</td>\n",
              "      <td>manual</td>\n",
              "      <td>190</td>\n",
              "      <td>NaN</td>\n",
              "      <td>125000</td>\n",
              "      <td>5</td>\n",
              "      <td>gasoline</td>\n",
              "      <td>audi</td>\n",
              "      <td>yes</td>\n",
              "      <td>2016-03-24 00:00:00</td>\n",
              "      <td>0</td>\n",
              "      <td>66954</td>\n",
              "      <td>2016-04-07 01:46:50</td>\n",
              "    </tr>\n",
              "    <tr>\n",
              "      <th>2</th>\n",
              "      <td>2016-03-14 12:52:21</td>\n",
              "      <td>9800</td>\n",
              "      <td>suv</td>\n",
              "      <td>2004</td>\n",
              "      <td>auto</td>\n",
              "      <td>163</td>\n",
              "      <td>grand</td>\n",
              "      <td>125000</td>\n",
              "      <td>8</td>\n",
              "      <td>gasoline</td>\n",
              "      <td>jeep</td>\n",
              "      <td>NaN</td>\n",
              "      <td>2016-03-14 00:00:00</td>\n",
              "      <td>0</td>\n",
              "      <td>90480</td>\n",
              "      <td>2016-04-05 12:47:46</td>\n",
              "    </tr>\n",
              "    <tr>\n",
              "      <th>3</th>\n",
              "      <td>2016-03-17 16:54:04</td>\n",
              "      <td>1500</td>\n",
              "      <td>small</td>\n",
              "      <td>2001</td>\n",
              "      <td>manual</td>\n",
              "      <td>75</td>\n",
              "      <td>golf</td>\n",
              "      <td>150000</td>\n",
              "      <td>6</td>\n",
              "      <td>petrol</td>\n",
              "      <td>volkswagen</td>\n",
              "      <td>no</td>\n",
              "      <td>2016-03-17 00:00:00</td>\n",
              "      <td>0</td>\n",
              "      <td>91074</td>\n",
              "      <td>2016-03-17 17:40:17</td>\n",
              "    </tr>\n",
              "    <tr>\n",
              "      <th>4</th>\n",
              "      <td>2016-03-31 17:25:20</td>\n",
              "      <td>3600</td>\n",
              "      <td>small</td>\n",
              "      <td>2008</td>\n",
              "      <td>manual</td>\n",
              "      <td>69</td>\n",
              "      <td>fabia</td>\n",
              "      <td>90000</td>\n",
              "      <td>7</td>\n",
              "      <td>gasoline</td>\n",
              "      <td>skoda</td>\n",
              "      <td>no</td>\n",
              "      <td>2016-03-31 00:00:00</td>\n",
              "      <td>0</td>\n",
              "      <td>60437</td>\n",
              "      <td>2016-04-06 10:17:21</td>\n",
              "    </tr>\n",
              "    <tr>\n",
              "      <th>5</th>\n",
              "      <td>2016-04-04 17:36:23</td>\n",
              "      <td>650</td>\n",
              "      <td>sedan</td>\n",
              "      <td>1995</td>\n",
              "      <td>manual</td>\n",
              "      <td>102</td>\n",
              "      <td>3er</td>\n",
              "      <td>150000</td>\n",
              "      <td>10</td>\n",
              "      <td>petrol</td>\n",
              "      <td>bmw</td>\n",
              "      <td>yes</td>\n",
              "      <td>2016-04-04 00:00:00</td>\n",
              "      <td>0</td>\n",
              "      <td>33775</td>\n",
              "      <td>2016-04-06 19:17:07</td>\n",
              "    </tr>\n",
              "    <tr>\n",
              "      <th>6</th>\n",
              "      <td>2016-04-01 20:48:51</td>\n",
              "      <td>2200</td>\n",
              "      <td>convertible</td>\n",
              "      <td>2004</td>\n",
              "      <td>manual</td>\n",
              "      <td>109</td>\n",
              "      <td>2_reihe</td>\n",
              "      <td>150000</td>\n",
              "      <td>8</td>\n",
              "      <td>petrol</td>\n",
              "      <td>peugeot</td>\n",
              "      <td>no</td>\n",
              "      <td>2016-04-01 00:00:00</td>\n",
              "      <td>0</td>\n",
              "      <td>67112</td>\n",
              "      <td>2016-04-05 18:18:39</td>\n",
              "    </tr>\n",
              "    <tr>\n",
              "      <th>7</th>\n",
              "      <td>2016-03-21 18:54:38</td>\n",
              "      <td>0</td>\n",
              "      <td>sedan</td>\n",
              "      <td>1980</td>\n",
              "      <td>manual</td>\n",
              "      <td>50</td>\n",
              "      <td>other</td>\n",
              "      <td>40000</td>\n",
              "      <td>7</td>\n",
              "      <td>petrol</td>\n",
              "      <td>volkswagen</td>\n",
              "      <td>no</td>\n",
              "      <td>2016-03-21 00:00:00</td>\n",
              "      <td>0</td>\n",
              "      <td>19348</td>\n",
              "      <td>2016-03-25 16:47:58</td>\n",
              "    </tr>\n",
              "    <tr>\n",
              "      <th>8</th>\n",
              "      <td>2016-04-04 23:42:13</td>\n",
              "      <td>14500</td>\n",
              "      <td>bus</td>\n",
              "      <td>2014</td>\n",
              "      <td>manual</td>\n",
              "      <td>125</td>\n",
              "      <td>c_max</td>\n",
              "      <td>30000</td>\n",
              "      <td>8</td>\n",
              "      <td>petrol</td>\n",
              "      <td>ford</td>\n",
              "      <td>NaN</td>\n",
              "      <td>2016-04-04 00:00:00</td>\n",
              "      <td>0</td>\n",
              "      <td>94505</td>\n",
              "      <td>2016-04-04 23:42:13</td>\n",
              "    </tr>\n",
              "    <tr>\n",
              "      <th>9</th>\n",
              "      <td>2016-03-17 10:53:50</td>\n",
              "      <td>999</td>\n",
              "      <td>small</td>\n",
              "      <td>1998</td>\n",
              "      <td>manual</td>\n",
              "      <td>101</td>\n",
              "      <td>golf</td>\n",
              "      <td>150000</td>\n",
              "      <td>0</td>\n",
              "      <td>NaN</td>\n",
              "      <td>volkswagen</td>\n",
              "      <td>NaN</td>\n",
              "      <td>2016-03-17 00:00:00</td>\n",
              "      <td>0</td>\n",
              "      <td>27472</td>\n",
              "      <td>2016-03-31 17:17:06</td>\n",
              "    </tr>\n",
              "  </tbody>\n",
              "</table>\n",
              "</div>"
            ],
            "text/plain": [
              "           DateCrawled  Price  ... PostalCode             LastSeen\n",
              "0  2016-03-24 11:52:17    480  ...      70435  2016-04-07 03:16:57\n",
              "1  2016-03-24 10:58:45  18300  ...      66954  2016-04-07 01:46:50\n",
              "2  2016-03-14 12:52:21   9800  ...      90480  2016-04-05 12:47:46\n",
              "3  2016-03-17 16:54:04   1500  ...      91074  2016-03-17 17:40:17\n",
              "4  2016-03-31 17:25:20   3600  ...      60437  2016-04-06 10:17:21\n",
              "5  2016-04-04 17:36:23    650  ...      33775  2016-04-06 19:17:07\n",
              "6  2016-04-01 20:48:51   2200  ...      67112  2016-04-05 18:18:39\n",
              "7  2016-03-21 18:54:38      0  ...      19348  2016-03-25 16:47:58\n",
              "8  2016-04-04 23:42:13  14500  ...      94505  2016-04-04 23:42:13\n",
              "9  2016-03-17 10:53:50    999  ...      27472  2016-03-31 17:17:06\n",
              "\n",
              "[10 rows x 16 columns]"
            ]
          },
          "metadata": {
            "tags": []
          },
          "execution_count": 4
        }
      ]
    },
    {
      "cell_type": "code",
      "metadata": {
        "id": "qlqftE4DuKw6",
        "colab": {
          "base_uri": "https://localhost:8080/"
        },
        "outputId": "59bd10be-44be-4b9a-8e6b-3b39b4eb365a"
      },
      "source": [
        "df.info()"
      ],
      "execution_count": null,
      "outputs": [
        {
          "output_type": "stream",
          "text": [
            "<class 'pandas.core.frame.DataFrame'>\n",
            "RangeIndex: 354369 entries, 0 to 354368\n",
            "Data columns (total 16 columns):\n",
            " #   Column             Non-Null Count   Dtype \n",
            "---  ------             --------------   ----- \n",
            " 0   DateCrawled        354369 non-null  object\n",
            " 1   Price              354369 non-null  int64 \n",
            " 2   VehicleType        316879 non-null  object\n",
            " 3   RegistrationYear   354369 non-null  int64 \n",
            " 4   Gearbox            334536 non-null  object\n",
            " 5   Power              354369 non-null  int64 \n",
            " 6   Model              334664 non-null  object\n",
            " 7   Kilometer          354369 non-null  int64 \n",
            " 8   RegistrationMonth  354369 non-null  int64 \n",
            " 9   FuelType           321474 non-null  object\n",
            " 10  Brand              354369 non-null  object\n",
            " 11  NotRepaired        283215 non-null  object\n",
            " 12  DateCreated        354369 non-null  object\n",
            " 13  NumberOfPictures   354369 non-null  int64 \n",
            " 14  PostalCode         354369 non-null  int64 \n",
            " 15  LastSeen           354369 non-null  object\n",
            "dtypes: int64(7), object(9)\n",
            "memory usage: 43.3+ MB\n"
          ],
          "name": "stdout"
        }
      ]
    },
    {
      "cell_type": "code",
      "metadata": {
        "id": "BEt3tih-uKw7",
        "colab": {
          "base_uri": "https://localhost:8080/",
          "height": 297
        },
        "outputId": "c9a0146f-93d2-420d-bbf2-c3d67ed70509"
      },
      "source": [
        "df.describe()"
      ],
      "execution_count": null,
      "outputs": [
        {
          "output_type": "execute_result",
          "data": {
            "text/html": [
              "<div>\n",
              "<style scoped>\n",
              "    .dataframe tbody tr th:only-of-type {\n",
              "        vertical-align: middle;\n",
              "    }\n",
              "\n",
              "    .dataframe tbody tr th {\n",
              "        vertical-align: top;\n",
              "    }\n",
              "\n",
              "    .dataframe thead th {\n",
              "        text-align: right;\n",
              "    }\n",
              "</style>\n",
              "<table border=\"1\" class=\"dataframe\">\n",
              "  <thead>\n",
              "    <tr style=\"text-align: right;\">\n",
              "      <th></th>\n",
              "      <th>Price</th>\n",
              "      <th>RegistrationYear</th>\n",
              "      <th>Power</th>\n",
              "      <th>Kilometer</th>\n",
              "      <th>RegistrationMonth</th>\n",
              "      <th>NumberOfPictures</th>\n",
              "      <th>PostalCode</th>\n",
              "    </tr>\n",
              "  </thead>\n",
              "  <tbody>\n",
              "    <tr>\n",
              "      <th>count</th>\n",
              "      <td>354369.000000</td>\n",
              "      <td>354369.000000</td>\n",
              "      <td>354369.000000</td>\n",
              "      <td>354369.000000</td>\n",
              "      <td>354369.000000</td>\n",
              "      <td>354369.0</td>\n",
              "      <td>354369.000000</td>\n",
              "    </tr>\n",
              "    <tr>\n",
              "      <th>mean</th>\n",
              "      <td>4416.656776</td>\n",
              "      <td>2004.234448</td>\n",
              "      <td>110.094337</td>\n",
              "      <td>128211.172535</td>\n",
              "      <td>5.714645</td>\n",
              "      <td>0.0</td>\n",
              "      <td>50508.689087</td>\n",
              "    </tr>\n",
              "    <tr>\n",
              "      <th>std</th>\n",
              "      <td>4514.158514</td>\n",
              "      <td>90.227958</td>\n",
              "      <td>189.850405</td>\n",
              "      <td>37905.341530</td>\n",
              "      <td>3.726421</td>\n",
              "      <td>0.0</td>\n",
              "      <td>25783.096248</td>\n",
              "    </tr>\n",
              "    <tr>\n",
              "      <th>min</th>\n",
              "      <td>0.000000</td>\n",
              "      <td>1000.000000</td>\n",
              "      <td>0.000000</td>\n",
              "      <td>5000.000000</td>\n",
              "      <td>0.000000</td>\n",
              "      <td>0.0</td>\n",
              "      <td>1067.000000</td>\n",
              "    </tr>\n",
              "    <tr>\n",
              "      <th>25%</th>\n",
              "      <td>1050.000000</td>\n",
              "      <td>1999.000000</td>\n",
              "      <td>69.000000</td>\n",
              "      <td>125000.000000</td>\n",
              "      <td>3.000000</td>\n",
              "      <td>0.0</td>\n",
              "      <td>30165.000000</td>\n",
              "    </tr>\n",
              "    <tr>\n",
              "      <th>50%</th>\n",
              "      <td>2700.000000</td>\n",
              "      <td>2003.000000</td>\n",
              "      <td>105.000000</td>\n",
              "      <td>150000.000000</td>\n",
              "      <td>6.000000</td>\n",
              "      <td>0.0</td>\n",
              "      <td>49413.000000</td>\n",
              "    </tr>\n",
              "    <tr>\n",
              "      <th>75%</th>\n",
              "      <td>6400.000000</td>\n",
              "      <td>2008.000000</td>\n",
              "      <td>143.000000</td>\n",
              "      <td>150000.000000</td>\n",
              "      <td>9.000000</td>\n",
              "      <td>0.0</td>\n",
              "      <td>71083.000000</td>\n",
              "    </tr>\n",
              "    <tr>\n",
              "      <th>max</th>\n",
              "      <td>20000.000000</td>\n",
              "      <td>9999.000000</td>\n",
              "      <td>20000.000000</td>\n",
              "      <td>150000.000000</td>\n",
              "      <td>12.000000</td>\n",
              "      <td>0.0</td>\n",
              "      <td>99998.000000</td>\n",
              "    </tr>\n",
              "  </tbody>\n",
              "</table>\n",
              "</div>"
            ],
            "text/plain": [
              "               Price  RegistrationYear  ...  NumberOfPictures     PostalCode\n",
              "count  354369.000000     354369.000000  ...          354369.0  354369.000000\n",
              "mean     4416.656776       2004.234448  ...               0.0   50508.689087\n",
              "std      4514.158514         90.227958  ...               0.0   25783.096248\n",
              "min         0.000000       1000.000000  ...               0.0    1067.000000\n",
              "25%      1050.000000       1999.000000  ...               0.0   30165.000000\n",
              "50%      2700.000000       2003.000000  ...               0.0   49413.000000\n",
              "75%      6400.000000       2008.000000  ...               0.0   71083.000000\n",
              "max     20000.000000       9999.000000  ...               0.0   99998.000000\n",
              "\n",
              "[8 rows x 7 columns]"
            ]
          },
          "metadata": {
            "tags": []
          },
          "execution_count": 6
        }
      ]
    },
    {
      "cell_type": "code",
      "metadata": {
        "id": "g4K0uBUTuKw7",
        "colab": {
          "base_uri": "https://localhost:8080/"
        },
        "outputId": "fe2d4f95-3466-43aa-a7ce-f1096043f192"
      },
      "source": [
        "df.isna().sum()"
      ],
      "execution_count": null,
      "outputs": [
        {
          "output_type": "execute_result",
          "data": {
            "text/plain": [
              "DateCrawled              0\n",
              "Price                    0\n",
              "VehicleType          37490\n",
              "RegistrationYear         0\n",
              "Gearbox              19833\n",
              "Power                    0\n",
              "Model                19705\n",
              "Kilometer                0\n",
              "RegistrationMonth        0\n",
              "FuelType             32895\n",
              "Brand                    0\n",
              "NotRepaired          71154\n",
              "DateCreated              0\n",
              "NumberOfPictures         0\n",
              "PostalCode               0\n",
              "LastSeen                 0\n",
              "dtype: int64"
            ]
          },
          "metadata": {
            "tags": []
          },
          "execution_count": 7
        }
      ]
    },
    {
      "cell_type": "markdown",
      "metadata": {
        "id": "VHWmhFNDuKw7"
      },
      "source": [
        "Имеем массив данных размером 354тыс строк на 16 столбцов:\n",
        "- в столбце VehicleType имеется 37,5тыс пропусков;\n",
        "- в столбцах Gearbox и Model почти по 20тыс пропусков;\n",
        "- в столбце FuelType имеется почти 33тыс пропусков;\n",
        "- в столобце NotRepaired - 71тыс пропусков;\n",
        "- в столбце Price есть строки с 0 стоимостью машины - это наш целевой признак, пропусков нет;\n",
        "- в столбце RegistrationYear имеются строки с годом 9999;\n",
        "- в столбце RegistrationMonth можно удалить, тк для возраста важен год регистрации;\n",
        "- в столбце Power не везде указана мощность моторов + есть записи в 20тыс л.с., что явно либо опечатка, либо аномалия;\n",
        "- в столбце NumberOfPictures нет ни одной фотографии, можно сразу удалить.\n"
      ]
    },
    {
      "cell_type": "markdown",
      "metadata": {
        "id": "qbuwpq6auKw8"
      },
      "source": [
        "## Предобработка данных"
      ]
    },
    {
      "cell_type": "markdown",
      "metadata": {
        "id": "Y45TpbjtuKw8"
      },
      "source": [
        "Удалим столбцы с фотографиями, потому что их нет; \n",
        "а также столбецы с почтовым индексом и с месяцем регистарции,\n",
        "тк он не несет полезной информации: важен год регистрации для определея возраста машины"
      ]
    },
    {
      "cell_type": "code",
      "metadata": {
        "id": "oUjujSJIuKw9"
      },
      "source": [
        "df = df.drop(['NumberOfPictures', 'RegistrationMonth', 'PostalCode'], axis = 1)"
      ],
      "execution_count": null,
      "outputs": []
    },
    {
      "cell_type": "code",
      "metadata": {
        "id": "_1HrsWOsuKw9",
        "colab": {
          "base_uri": "https://localhost:8080/"
        },
        "outputId": "8d394cb0-d24b-488b-f1ba-6710ecbc95f6"
      },
      "source": [
        "# Так как время и день внесения в систему новой позиции нам не важны, то столбцы можно удалить.\n",
        "df = df.drop(['DateCrawled','DateCreated','LastSeen'], axis = 1)\n",
        "df.info()"
      ],
      "execution_count": null,
      "outputs": [
        {
          "output_type": "stream",
          "text": [
            "<class 'pandas.core.frame.DataFrame'>\n",
            "RangeIndex: 354369 entries, 0 to 354368\n",
            "Data columns (total 10 columns):\n",
            " #   Column            Non-Null Count   Dtype \n",
            "---  ------            --------------   ----- \n",
            " 0   Price             354369 non-null  int64 \n",
            " 1   VehicleType       316879 non-null  object\n",
            " 2   RegistrationYear  354369 non-null  int64 \n",
            " 3   Gearbox           334536 non-null  object\n",
            " 4   Power             354369 non-null  int64 \n",
            " 5   Model             334664 non-null  object\n",
            " 6   Kilometer         354369 non-null  int64 \n",
            " 7   FuelType          321474 non-null  object\n",
            " 8   Brand             354369 non-null  object\n",
            " 9   NotRepaired       283215 non-null  object\n",
            "dtypes: int64(4), object(6)\n",
            "memory usage: 27.0+ MB\n"
          ],
          "name": "stdout"
        }
      ]
    },
    {
      "cell_type": "code",
      "metadata": {
        "id": "itW65W5puKw-",
        "colab": {
          "base_uri": "https://localhost:8080/"
        },
        "outputId": "46394ba2-0f14-44e1-db67-1f7b84dbef8f"
      },
      "source": [
        "# Мы заметили ,что в столбце RegistrationYear есть аномальные даты:\n",
        "print(df[df['RegistrationYear']<1950]['RegistrationYear'].count())\n",
        "print(df[df['RegistrationYear']>2016]['RegistrationYear'].count())"
      ],
      "execution_count": null,
      "outputs": [
        {
          "output_type": "stream",
          "text": [
            "246\n",
            "14530\n"
          ],
          "name": "stdout"
        }
      ]
    },
    {
      "cell_type": "code",
      "metadata": {
        "id": "NGYNRIoUuKw_",
        "colab": {
          "base_uri": "https://localhost:8080/"
        },
        "outputId": "12c63fcc-7f54-46c7-9276-3a3d20e66831"
      },
      "source": [
        "print(df[df['RegistrationYear']<1950]['RegistrationYear'].count()/len(df)*100)\n",
        "print(df[df['RegistrationYear']>2016]['RegistrationYear'].count()/len(df)*100)"
      ],
      "execution_count": null,
      "outputs": [
        {
          "output_type": "stream",
          "text": [
            "0.0694191647689273\n",
            "4.100245788993958\n"
          ],
          "name": "stdout"
        }
      ]
    },
    {
      "cell_type": "code",
      "metadata": {
        "id": "RaCvETFGuKw_",
        "colab": {
          "base_uri": "https://localhost:8080/"
        },
        "outputId": "88d04577-6fc1-483c-bc37-53a0991cc20d"
      },
      "source": [
        "# Аномалььных дат примерно 4.17% от общего массива, но лучше удалить\n",
        "df = df.drop(df[df['RegistrationYear']<1950].index).reset_index(drop = True)\n",
        "df = df.drop(df[df['RegistrationYear']>2016].index).reset_index(drop = True)\n",
        "df.info()"
      ],
      "execution_count": null,
      "outputs": [
        {
          "output_type": "stream",
          "text": [
            "<class 'pandas.core.frame.DataFrame'>\n",
            "RangeIndex: 339593 entries, 0 to 339592\n",
            "Data columns (total 10 columns):\n",
            " #   Column            Non-Null Count   Dtype \n",
            "---  ------            --------------   ----- \n",
            " 0   Price             339593 non-null  int64 \n",
            " 1   VehicleType       316753 non-null  object\n",
            " 2   RegistrationYear  339593 non-null  int64 \n",
            " 3   Gearbox           321781 non-null  object\n",
            " 4   Power             339593 non-null  int64 \n",
            " 5   Model             322060 non-null  object\n",
            " 6   Kilometer         339593 non-null  int64 \n",
            " 7   FuelType          312434 non-null  object\n",
            " 8   Brand             339593 non-null  object\n",
            " 9   NotRepaired       274915 non-null  object\n",
            "dtypes: int64(4), object(6)\n",
            "memory usage: 25.9+ MB\n"
          ],
          "name": "stdout"
        }
      ]
    },
    {
      "cell_type": "code",
      "metadata": {
        "id": "kT1XTdpAuKxA",
        "colab": {
          "base_uri": "https://localhost:8080/",
          "height": 297
        },
        "outputId": "fb97c27e-9658-452c-a038-58e4eb14514c"
      },
      "source": [
        "df['Car_age'] = 2016 - df['RegistrationYear']\n",
        "df = df.drop('RegistrationYear', axis = 1)\n",
        "df.describe()"
      ],
      "execution_count": null,
      "outputs": [
        {
          "output_type": "execute_result",
          "data": {
            "text/html": [
              "<div>\n",
              "<style scoped>\n",
              "    .dataframe tbody tr th:only-of-type {\n",
              "        vertical-align: middle;\n",
              "    }\n",
              "\n",
              "    .dataframe tbody tr th {\n",
              "        vertical-align: top;\n",
              "    }\n",
              "\n",
              "    .dataframe thead th {\n",
              "        text-align: right;\n",
              "    }\n",
              "</style>\n",
              "<table border=\"1\" class=\"dataframe\">\n",
              "  <thead>\n",
              "    <tr style=\"text-align: right;\">\n",
              "      <th></th>\n",
              "      <th>Price</th>\n",
              "      <th>Power</th>\n",
              "      <th>Kilometer</th>\n",
              "      <th>Car_age</th>\n",
              "    </tr>\n",
              "  </thead>\n",
              "  <tbody>\n",
              "    <tr>\n",
              "      <th>count</th>\n",
              "      <td>339593.000000</td>\n",
              "      <td>339593.000000</td>\n",
              "      <td>339593.000000</td>\n",
              "      <td>339593.000000</td>\n",
              "    </tr>\n",
              "    <tr>\n",
              "      <th>mean</th>\n",
              "      <td>4471.566207</td>\n",
              "      <td>111.045696</td>\n",
              "      <td>128123.960152</td>\n",
              "      <td>13.474821</td>\n",
              "    </tr>\n",
              "    <tr>\n",
              "      <th>std</th>\n",
              "      <td>4545.245169</td>\n",
              "      <td>186.899948</td>\n",
              "      <td>37842.413937</td>\n",
              "      <td>6.835767</td>\n",
              "    </tr>\n",
              "    <tr>\n",
              "      <th>min</th>\n",
              "      <td>0.000000</td>\n",
              "      <td>0.000000</td>\n",
              "      <td>5000.000000</td>\n",
              "      <td>0.000000</td>\n",
              "    </tr>\n",
              "    <tr>\n",
              "      <th>25%</th>\n",
              "      <td>1100.000000</td>\n",
              "      <td>69.000000</td>\n",
              "      <td>125000.000000</td>\n",
              "      <td>9.000000</td>\n",
              "    </tr>\n",
              "    <tr>\n",
              "      <th>50%</th>\n",
              "      <td>2799.000000</td>\n",
              "      <td>105.000000</td>\n",
              "      <td>150000.000000</td>\n",
              "      <td>13.000000</td>\n",
              "    </tr>\n",
              "    <tr>\n",
              "      <th>75%</th>\n",
              "      <td>6500.000000</td>\n",
              "      <td>143.000000</td>\n",
              "      <td>150000.000000</td>\n",
              "      <td>17.000000</td>\n",
              "    </tr>\n",
              "    <tr>\n",
              "      <th>max</th>\n",
              "      <td>20000.000000</td>\n",
              "      <td>20000.000000</td>\n",
              "      <td>150000.000000</td>\n",
              "      <td>66.000000</td>\n",
              "    </tr>\n",
              "  </tbody>\n",
              "</table>\n",
              "</div>"
            ],
            "text/plain": [
              "               Price          Power      Kilometer        Car_age\n",
              "count  339593.000000  339593.000000  339593.000000  339593.000000\n",
              "mean     4471.566207     111.045696  128123.960152      13.474821\n",
              "std      4545.245169     186.899948   37842.413937       6.835767\n",
              "min         0.000000       0.000000    5000.000000       0.000000\n",
              "25%      1100.000000      69.000000  125000.000000       9.000000\n",
              "50%      2799.000000     105.000000  150000.000000      13.000000\n",
              "75%      6500.000000     143.000000  150000.000000      17.000000\n",
              "max     20000.000000   20000.000000  150000.000000      66.000000"
            ]
          },
          "metadata": {
            "tags": []
          },
          "execution_count": 13
        }
      ]
    },
    {
      "cell_type": "code",
      "metadata": {
        "id": "Rkg_9FM_uKxB",
        "colab": {
          "base_uri": "https://localhost:8080/",
          "height": 204
        },
        "outputId": "c068e0fb-552f-4630-976b-76091e795ae4"
      },
      "source": [
        "df.head()"
      ],
      "execution_count": null,
      "outputs": [
        {
          "output_type": "execute_result",
          "data": {
            "text/html": [
              "<div>\n",
              "<style scoped>\n",
              "    .dataframe tbody tr th:only-of-type {\n",
              "        vertical-align: middle;\n",
              "    }\n",
              "\n",
              "    .dataframe tbody tr th {\n",
              "        vertical-align: top;\n",
              "    }\n",
              "\n",
              "    .dataframe thead th {\n",
              "        text-align: right;\n",
              "    }\n",
              "</style>\n",
              "<table border=\"1\" class=\"dataframe\">\n",
              "  <thead>\n",
              "    <tr style=\"text-align: right;\">\n",
              "      <th></th>\n",
              "      <th>Price</th>\n",
              "      <th>VehicleType</th>\n",
              "      <th>Gearbox</th>\n",
              "      <th>Power</th>\n",
              "      <th>Model</th>\n",
              "      <th>Kilometer</th>\n",
              "      <th>FuelType</th>\n",
              "      <th>Brand</th>\n",
              "      <th>NotRepaired</th>\n",
              "      <th>Car_age</th>\n",
              "    </tr>\n",
              "  </thead>\n",
              "  <tbody>\n",
              "    <tr>\n",
              "      <th>0</th>\n",
              "      <td>480</td>\n",
              "      <td>NaN</td>\n",
              "      <td>manual</td>\n",
              "      <td>0</td>\n",
              "      <td>golf</td>\n",
              "      <td>150000</td>\n",
              "      <td>petrol</td>\n",
              "      <td>volkswagen</td>\n",
              "      <td>NaN</td>\n",
              "      <td>23</td>\n",
              "    </tr>\n",
              "    <tr>\n",
              "      <th>1</th>\n",
              "      <td>18300</td>\n",
              "      <td>coupe</td>\n",
              "      <td>manual</td>\n",
              "      <td>190</td>\n",
              "      <td>NaN</td>\n",
              "      <td>125000</td>\n",
              "      <td>gasoline</td>\n",
              "      <td>audi</td>\n",
              "      <td>yes</td>\n",
              "      <td>5</td>\n",
              "    </tr>\n",
              "    <tr>\n",
              "      <th>2</th>\n",
              "      <td>9800</td>\n",
              "      <td>suv</td>\n",
              "      <td>auto</td>\n",
              "      <td>163</td>\n",
              "      <td>grand</td>\n",
              "      <td>125000</td>\n",
              "      <td>gasoline</td>\n",
              "      <td>jeep</td>\n",
              "      <td>NaN</td>\n",
              "      <td>12</td>\n",
              "    </tr>\n",
              "    <tr>\n",
              "      <th>3</th>\n",
              "      <td>1500</td>\n",
              "      <td>small</td>\n",
              "      <td>manual</td>\n",
              "      <td>75</td>\n",
              "      <td>golf</td>\n",
              "      <td>150000</td>\n",
              "      <td>petrol</td>\n",
              "      <td>volkswagen</td>\n",
              "      <td>no</td>\n",
              "      <td>15</td>\n",
              "    </tr>\n",
              "    <tr>\n",
              "      <th>4</th>\n",
              "      <td>3600</td>\n",
              "      <td>small</td>\n",
              "      <td>manual</td>\n",
              "      <td>69</td>\n",
              "      <td>fabia</td>\n",
              "      <td>90000</td>\n",
              "      <td>gasoline</td>\n",
              "      <td>skoda</td>\n",
              "      <td>no</td>\n",
              "      <td>8</td>\n",
              "    </tr>\n",
              "  </tbody>\n",
              "</table>\n",
              "</div>"
            ],
            "text/plain": [
              "   Price VehicleType Gearbox  Power  ...  FuelType       Brand NotRepaired Car_age\n",
              "0    480         NaN  manual      0  ...    petrol  volkswagen         NaN      23\n",
              "1  18300       coupe  manual    190  ...  gasoline        audi         yes       5\n",
              "2   9800         suv    auto    163  ...  gasoline        jeep         NaN      12\n",
              "3   1500       small  manual     75  ...    petrol  volkswagen          no      15\n",
              "4   3600       small  manual     69  ...  gasoline       skoda          no       8\n",
              "\n",
              "[5 rows x 10 columns]"
            ]
          },
          "metadata": {
            "tags": []
          },
          "execution_count": 14
        }
      ]
    },
    {
      "cell_type": "code",
      "metadata": {
        "id": "GzAvuFtduKxB",
        "colab": {
          "base_uri": "https://localhost:8080/"
        },
        "outputId": "ecfaa3f7-c7c6-4189-d060-283330c6ccfb"
      },
      "source": [
        "# Посмотрим на наименования брендов\n",
        "df['Brand'].unique()"
      ],
      "execution_count": null,
      "outputs": [
        {
          "output_type": "execute_result",
          "data": {
            "text/plain": [
              "array(['volkswagen', 'audi', 'jeep', 'skoda', 'bmw', 'peugeot', 'ford',\n",
              "       'mazda', 'nissan', 'renault', 'mercedes_benz', 'seat', 'honda',\n",
              "       'fiat', 'opel', 'mini', 'smart', 'hyundai', 'sonstige_autos',\n",
              "       'alfa_romeo', 'subaru', 'volvo', 'mitsubishi', 'kia', 'suzuki',\n",
              "       'lancia', 'citroen', 'toyota', 'chevrolet', 'dacia', 'daihatsu',\n",
              "       'trabant', 'saab', 'chrysler', 'jaguar', 'daewoo', 'porsche',\n",
              "       'rover', 'land_rover', 'lada'], dtype=object)"
            ]
          },
          "metadata": {
            "tags": []
          },
          "execution_count": 15
        }
      ]
    },
    {
      "cell_type": "code",
      "metadata": {
        "id": "EGzW7AAOuKxC",
        "colab": {
          "base_uri": "https://localhost:8080/"
        },
        "outputId": "39fdf255-3cc9-49fb-8e0c-a3247f79dfaa"
      },
      "source": [
        "# Имеется странная марка Sonstige_autos, проверим, сколько по ней позиций в массиве\n",
        "df[df['Brand']=='sonstige_autos'].isna().sum()"
      ],
      "execution_count": null,
      "outputs": [
        {
          "output_type": "execute_result",
          "data": {
            "text/plain": [
              "Price             0\n",
              "VehicleType     834\n",
              "Gearbox         963\n",
              "Power             0\n",
              "Model          3135\n",
              "Kilometer         0\n",
              "FuelType        946\n",
              "Brand             0\n",
              "NotRepaired    1176\n",
              "Car_age           0\n",
              "dtype: int64"
            ]
          },
          "metadata": {
            "tags": []
          },
          "execution_count": 16
        }
      ]
    },
    {
      "cell_type": "code",
      "metadata": {
        "id": "hi8_3554uKxC",
        "colab": {
          "base_uri": "https://localhost:8080/",
          "height": 359
        },
        "outputId": "6454032a-d60d-4f3d-8129-58b5e8a4e6bc"
      },
      "source": [
        "# Видим, что у данной марки нет ни одной модели, эти данные составляют менее 1%, поэтому можно удалить эти строки\n",
        "df = df.drop(df[df['Brand']=='sonstige_autos'].index).reset_index(drop = True)\n",
        "df.head(10)"
      ],
      "execution_count": null,
      "outputs": [
        {
          "output_type": "execute_result",
          "data": {
            "text/html": [
              "<div>\n",
              "<style scoped>\n",
              "    .dataframe tbody tr th:only-of-type {\n",
              "        vertical-align: middle;\n",
              "    }\n",
              "\n",
              "    .dataframe tbody tr th {\n",
              "        vertical-align: top;\n",
              "    }\n",
              "\n",
              "    .dataframe thead th {\n",
              "        text-align: right;\n",
              "    }\n",
              "</style>\n",
              "<table border=\"1\" class=\"dataframe\">\n",
              "  <thead>\n",
              "    <tr style=\"text-align: right;\">\n",
              "      <th></th>\n",
              "      <th>Price</th>\n",
              "      <th>VehicleType</th>\n",
              "      <th>Gearbox</th>\n",
              "      <th>Power</th>\n",
              "      <th>Model</th>\n",
              "      <th>Kilometer</th>\n",
              "      <th>FuelType</th>\n",
              "      <th>Brand</th>\n",
              "      <th>NotRepaired</th>\n",
              "      <th>Car_age</th>\n",
              "    </tr>\n",
              "  </thead>\n",
              "  <tbody>\n",
              "    <tr>\n",
              "      <th>0</th>\n",
              "      <td>480</td>\n",
              "      <td>NaN</td>\n",
              "      <td>manual</td>\n",
              "      <td>0</td>\n",
              "      <td>golf</td>\n",
              "      <td>150000</td>\n",
              "      <td>petrol</td>\n",
              "      <td>volkswagen</td>\n",
              "      <td>NaN</td>\n",
              "      <td>23</td>\n",
              "    </tr>\n",
              "    <tr>\n",
              "      <th>1</th>\n",
              "      <td>18300</td>\n",
              "      <td>coupe</td>\n",
              "      <td>manual</td>\n",
              "      <td>190</td>\n",
              "      <td>NaN</td>\n",
              "      <td>125000</td>\n",
              "      <td>gasoline</td>\n",
              "      <td>audi</td>\n",
              "      <td>yes</td>\n",
              "      <td>5</td>\n",
              "    </tr>\n",
              "    <tr>\n",
              "      <th>2</th>\n",
              "      <td>9800</td>\n",
              "      <td>suv</td>\n",
              "      <td>auto</td>\n",
              "      <td>163</td>\n",
              "      <td>grand</td>\n",
              "      <td>125000</td>\n",
              "      <td>gasoline</td>\n",
              "      <td>jeep</td>\n",
              "      <td>NaN</td>\n",
              "      <td>12</td>\n",
              "    </tr>\n",
              "    <tr>\n",
              "      <th>3</th>\n",
              "      <td>1500</td>\n",
              "      <td>small</td>\n",
              "      <td>manual</td>\n",
              "      <td>75</td>\n",
              "      <td>golf</td>\n",
              "      <td>150000</td>\n",
              "      <td>petrol</td>\n",
              "      <td>volkswagen</td>\n",
              "      <td>no</td>\n",
              "      <td>15</td>\n",
              "    </tr>\n",
              "    <tr>\n",
              "      <th>4</th>\n",
              "      <td>3600</td>\n",
              "      <td>small</td>\n",
              "      <td>manual</td>\n",
              "      <td>69</td>\n",
              "      <td>fabia</td>\n",
              "      <td>90000</td>\n",
              "      <td>gasoline</td>\n",
              "      <td>skoda</td>\n",
              "      <td>no</td>\n",
              "      <td>8</td>\n",
              "    </tr>\n",
              "    <tr>\n",
              "      <th>5</th>\n",
              "      <td>650</td>\n",
              "      <td>sedan</td>\n",
              "      <td>manual</td>\n",
              "      <td>102</td>\n",
              "      <td>3er</td>\n",
              "      <td>150000</td>\n",
              "      <td>petrol</td>\n",
              "      <td>bmw</td>\n",
              "      <td>yes</td>\n",
              "      <td>21</td>\n",
              "    </tr>\n",
              "    <tr>\n",
              "      <th>6</th>\n",
              "      <td>2200</td>\n",
              "      <td>convertible</td>\n",
              "      <td>manual</td>\n",
              "      <td>109</td>\n",
              "      <td>2_reihe</td>\n",
              "      <td>150000</td>\n",
              "      <td>petrol</td>\n",
              "      <td>peugeot</td>\n",
              "      <td>no</td>\n",
              "      <td>12</td>\n",
              "    </tr>\n",
              "    <tr>\n",
              "      <th>7</th>\n",
              "      <td>0</td>\n",
              "      <td>sedan</td>\n",
              "      <td>manual</td>\n",
              "      <td>50</td>\n",
              "      <td>other</td>\n",
              "      <td>40000</td>\n",
              "      <td>petrol</td>\n",
              "      <td>volkswagen</td>\n",
              "      <td>no</td>\n",
              "      <td>36</td>\n",
              "    </tr>\n",
              "    <tr>\n",
              "      <th>8</th>\n",
              "      <td>14500</td>\n",
              "      <td>bus</td>\n",
              "      <td>manual</td>\n",
              "      <td>125</td>\n",
              "      <td>c_max</td>\n",
              "      <td>30000</td>\n",
              "      <td>petrol</td>\n",
              "      <td>ford</td>\n",
              "      <td>NaN</td>\n",
              "      <td>2</td>\n",
              "    </tr>\n",
              "    <tr>\n",
              "      <th>9</th>\n",
              "      <td>999</td>\n",
              "      <td>small</td>\n",
              "      <td>manual</td>\n",
              "      <td>101</td>\n",
              "      <td>golf</td>\n",
              "      <td>150000</td>\n",
              "      <td>NaN</td>\n",
              "      <td>volkswagen</td>\n",
              "      <td>NaN</td>\n",
              "      <td>18</td>\n",
              "    </tr>\n",
              "  </tbody>\n",
              "</table>\n",
              "</div>"
            ],
            "text/plain": [
              "   Price  VehicleType Gearbox  Power  ...  FuelType       Brand NotRepaired Car_age\n",
              "0    480          NaN  manual      0  ...    petrol  volkswagen         NaN      23\n",
              "1  18300        coupe  manual    190  ...  gasoline        audi         yes       5\n",
              "2   9800          suv    auto    163  ...  gasoline        jeep         NaN      12\n",
              "3   1500        small  manual     75  ...    petrol  volkswagen          no      15\n",
              "4   3600        small  manual     69  ...  gasoline       skoda          no       8\n",
              "5    650        sedan  manual    102  ...    petrol         bmw         yes      21\n",
              "6   2200  convertible  manual    109  ...    petrol     peugeot          no      12\n",
              "7      0        sedan  manual     50  ...    petrol  volkswagen          no      36\n",
              "8  14500          bus  manual    125  ...    petrol        ford         NaN       2\n",
              "9    999        small  manual    101  ...       NaN  volkswagen         NaN      18\n",
              "\n",
              "[10 rows x 10 columns]"
            ]
          },
          "metadata": {
            "tags": []
          },
          "execution_count": 17
        }
      ]
    },
    {
      "cell_type": "code",
      "metadata": {
        "id": "qeKbxhLXuKxD",
        "colab": {
          "base_uri": "https://localhost:8080/"
        },
        "outputId": "366c09eb-62ff-429d-ae47-a4b78f73d075"
      },
      "source": [
        "# Рассмотрим аномалии в столбце мощности мотора, максимальное значение значится 20тыс лс\n",
        "df[df['Power']>500]['Power'].count()"
      ],
      "execution_count": null,
      "outputs": [
        {
          "output_type": "execute_result",
          "data": {
            "text/plain": [
              "410"
            ]
          },
          "metadata": {
            "tags": []
          },
          "execution_count": 18
        }
      ]
    },
    {
      "cell_type": "code",
      "metadata": {
        "id": "qWZ9BaHvuKxD",
        "colab": {
          "base_uri": "https://localhost:8080/"
        },
        "outputId": "ae2b9f5a-1df6-42e1-a2c0-57971b919808"
      },
      "source": [
        "df[df['Power']==0]['Power'].count()"
      ],
      "execution_count": null,
      "outputs": [
        {
          "output_type": "execute_result",
          "data": {
            "text/plain": [
              "35101"
            ]
          },
          "metadata": {
            "tags": []
          },
          "execution_count": 19
        }
      ]
    },
    {
      "cell_type": "markdown",
      "metadata": {
        "id": "LdZnlByeuKxD"
      },
      "source": [
        "Будем считать, что авто с нулевой мощностью это авто без двигателя - выставлены на продажу запчастей"
      ]
    },
    {
      "cell_type": "code",
      "metadata": {
        "id": "gM7dsUA3uKxD",
        "colab": {
          "base_uri": "https://localhost:8080/"
        },
        "outputId": "2d10c021-b430-4483-e21f-15554c2af3d5"
      },
      "source": [
        "df[df['Power']>500]['Model'].unique()\n",
        "# очень сомнительно, что Toyota Corolla под капотом имеет 500лс или Fabia"
      ],
      "execution_count": null,
      "outputs": [
        {
          "output_type": "execute_result",
          "data": {
            "text/plain": [
              "array(['corolla', 'vectra', 'colt', 'astra', 'matiz', 'punto', 'corsa',\n",
              "       'lupo', nan, 'ypsilon', 'zafira', 'focus', 'other', 'ka', 's_type',\n",
              "       'escort', 'm_reihe', 'ibiza', '5er', 'micra', 'e_klasse',\n",
              "       'cayenne', 'c5', 'polo', '3er', 'fabia', 'caddy', 'golf', 'v40',\n",
              "       'a8', 'aygo', '3_reihe', 'mondeo', 'arosa', 'c4', 'a6', 'twingo',\n",
              "       'fortwo', 'a4', 'seicento', 'fiesta', 'leon', 'c_klasse',\n",
              "       'berlingo', 'omega', 'sprinter', 'rio', 'scenic', 'a_klasse',\n",
              "       'passat', 'ptcruiser', '6_reihe', 'touran', '1er', 'stilo',\n",
              "       's_klasse', 'megane', 'transporter', 'galaxy', 'ceed', '80',\n",
              "       'doblo', 'octavia', 'clk', 'cooper', 'cordoba', '147', 'agila',\n",
              "       'outlander', 'mustang', 'sharan', 'm_klasse', 'kangoo', '500',\n",
              "       'civic', 'a3', 'forfour', 'rav', 'laguna', 'bravo', 'spark',\n",
              "       'nubira', 'kaefer', '2_reihe', 'espace', 'toledo', 'tt', 'up',\n",
              "       'c2', 'touareg', 'clio', 'tiguan', 'c_max', 'yaris', 'cl',\n",
              "       'x_trail', 'carisma'], dtype=object)"
            ]
          },
          "metadata": {
            "tags": []
          },
          "execution_count": 20
        }
      ]
    },
    {
      "cell_type": "code",
      "metadata": {
        "id": "OVPbcVnruKxE",
        "colab": {
          "base_uri": "https://localhost:8080/",
          "height": 297
        },
        "outputId": "d3fbc975-f1ae-47bc-d124-024981cacda6"
      },
      "source": [
        "# 410 строк, где мощность мотора свыше 500лс, можно смело удалять\n",
        "df = df.drop(df[df['Power']>500].index).reset_index(drop = True)\n",
        "df.describe()"
      ],
      "execution_count": null,
      "outputs": [
        {
          "output_type": "execute_result",
          "data": {
            "text/html": [
              "<div>\n",
              "<style scoped>\n",
              "    .dataframe tbody tr th:only-of-type {\n",
              "        vertical-align: middle;\n",
              "    }\n",
              "\n",
              "    .dataframe tbody tr th {\n",
              "        vertical-align: top;\n",
              "    }\n",
              "\n",
              "    .dataframe thead th {\n",
              "        text-align: right;\n",
              "    }\n",
              "</style>\n",
              "<table border=\"1\" class=\"dataframe\">\n",
              "  <thead>\n",
              "    <tr style=\"text-align: right;\">\n",
              "      <th></th>\n",
              "      <th>Price</th>\n",
              "      <th>Power</th>\n",
              "      <th>Kilometer</th>\n",
              "      <th>Car_age</th>\n",
              "    </tr>\n",
              "  </thead>\n",
              "  <tbody>\n",
              "    <tr>\n",
              "      <th>count</th>\n",
              "      <td>336048.000000</td>\n",
              "      <td>336048.000000</td>\n",
              "      <td>336048.000000</td>\n",
              "      <td>336048.000000</td>\n",
              "    </tr>\n",
              "    <tr>\n",
              "      <th>mean</th>\n",
              "      <td>4464.490638</td>\n",
              "      <td>107.680251</td>\n",
              "      <td>128469.385326</td>\n",
              "      <td>13.399193</td>\n",
              "    </tr>\n",
              "    <tr>\n",
              "      <th>std</th>\n",
              "      <td>4533.204319</td>\n",
              "      <td>62.335755</td>\n",
              "      <td>37430.104124</td>\n",
              "      <td>6.666457</td>\n",
              "    </tr>\n",
              "    <tr>\n",
              "      <th>min</th>\n",
              "      <td>0.000000</td>\n",
              "      <td>0.000000</td>\n",
              "      <td>5000.000000</td>\n",
              "      <td>0.000000</td>\n",
              "    </tr>\n",
              "    <tr>\n",
              "      <th>25%</th>\n",
              "      <td>1100.000000</td>\n",
              "      <td>69.000000</td>\n",
              "      <td>125000.000000</td>\n",
              "      <td>9.000000</td>\n",
              "    </tr>\n",
              "    <tr>\n",
              "      <th>50%</th>\n",
              "      <td>2799.000000</td>\n",
              "      <td>105.000000</td>\n",
              "      <td>150000.000000</td>\n",
              "      <td>13.000000</td>\n",
              "    </tr>\n",
              "    <tr>\n",
              "      <th>75%</th>\n",
              "      <td>6500.000000</td>\n",
              "      <td>143.000000</td>\n",
              "      <td>150000.000000</td>\n",
              "      <td>17.000000</td>\n",
              "    </tr>\n",
              "    <tr>\n",
              "      <th>max</th>\n",
              "      <td>20000.000000</td>\n",
              "      <td>500.000000</td>\n",
              "      <td>150000.000000</td>\n",
              "      <td>66.000000</td>\n",
              "    </tr>\n",
              "  </tbody>\n",
              "</table>\n",
              "</div>"
            ],
            "text/plain": [
              "               Price          Power      Kilometer        Car_age\n",
              "count  336048.000000  336048.000000  336048.000000  336048.000000\n",
              "mean     4464.490638     107.680251  128469.385326      13.399193\n",
              "std      4533.204319      62.335755   37430.104124       6.666457\n",
              "min         0.000000       0.000000    5000.000000       0.000000\n",
              "25%      1100.000000      69.000000  125000.000000       9.000000\n",
              "50%      2799.000000     105.000000  150000.000000      13.000000\n",
              "75%      6500.000000     143.000000  150000.000000      17.000000\n",
              "max     20000.000000     500.000000  150000.000000      66.000000"
            ]
          },
          "metadata": {
            "tags": []
          },
          "execution_count": 21
        }
      ]
    },
    {
      "cell_type": "markdown",
      "metadata": {
        "id": "b1oYQcxEuKxE"
      },
      "source": [
        "Выводы: Мы почистили таблицу от аномальных данных:\n",
        "- строки, где мощность моторов выше 500лс;\n",
        "- строки, где год регистрации указан больше 2016 года и меньше 1950 года;\n",
        "- строки, где не было указано ни модели машины, ни бренда;\n",
        "и удалили ненужные признаки в целом."
      ]
    },
    {
      "cell_type": "code",
      "metadata": {
        "colab": {
          "base_uri": "https://localhost:8080/",
          "height": 419
        },
        "id": "5VNajxGswXGZ",
        "outputId": "ed266e7c-c0ab-4dcc-f2ce-ceea1f8756ec"
      },
      "source": [
        "df[df.duplicated()==True]"
      ],
      "execution_count": null,
      "outputs": [
        {
          "output_type": "execute_result",
          "data": {
            "text/html": [
              "<div>\n",
              "<style scoped>\n",
              "    .dataframe tbody tr th:only-of-type {\n",
              "        vertical-align: middle;\n",
              "    }\n",
              "\n",
              "    .dataframe tbody tr th {\n",
              "        vertical-align: top;\n",
              "    }\n",
              "\n",
              "    .dataframe thead th {\n",
              "        text-align: right;\n",
              "    }\n",
              "</style>\n",
              "<table border=\"1\" class=\"dataframe\">\n",
              "  <thead>\n",
              "    <tr style=\"text-align: right;\">\n",
              "      <th></th>\n",
              "      <th>Price</th>\n",
              "      <th>VehicleType</th>\n",
              "      <th>Gearbox</th>\n",
              "      <th>Power</th>\n",
              "      <th>Model</th>\n",
              "      <th>Kilometer</th>\n",
              "      <th>FuelType</th>\n",
              "      <th>Brand</th>\n",
              "      <th>NotRepaired</th>\n",
              "      <th>Car_age</th>\n",
              "    </tr>\n",
              "  </thead>\n",
              "  <tbody>\n",
              "    <tr>\n",
              "      <th>1052</th>\n",
              "      <td>950</td>\n",
              "      <td>small</td>\n",
              "      <td>manual</td>\n",
              "      <td>60</td>\n",
              "      <td>polo</td>\n",
              "      <td>150000</td>\n",
              "      <td>petrol</td>\n",
              "      <td>volkswagen</td>\n",
              "      <td>no</td>\n",
              "      <td>17</td>\n",
              "    </tr>\n",
              "    <tr>\n",
              "      <th>1316</th>\n",
              "      <td>0</td>\n",
              "      <td>NaN</td>\n",
              "      <td>NaN</td>\n",
              "      <td>0</td>\n",
              "      <td>NaN</td>\n",
              "      <td>150000</td>\n",
              "      <td>NaN</td>\n",
              "      <td>volvo</td>\n",
              "      <td>NaN</td>\n",
              "      <td>16</td>\n",
              "    </tr>\n",
              "    <tr>\n",
              "      <th>2051</th>\n",
              "      <td>0</td>\n",
              "      <td>coupe</td>\n",
              "      <td>manual</td>\n",
              "      <td>129</td>\n",
              "      <td>c_klasse</td>\n",
              "      <td>150000</td>\n",
              "      <td>petrol</td>\n",
              "      <td>mercedes_benz</td>\n",
              "      <td>no</td>\n",
              "      <td>14</td>\n",
              "    </tr>\n",
              "    <tr>\n",
              "      <th>2676</th>\n",
              "      <td>1499</td>\n",
              "      <td>small</td>\n",
              "      <td>manual</td>\n",
              "      <td>58</td>\n",
              "      <td>corsa</td>\n",
              "      <td>150000</td>\n",
              "      <td>petrol</td>\n",
              "      <td>opel</td>\n",
              "      <td>no</td>\n",
              "      <td>15</td>\n",
              "    </tr>\n",
              "    <tr>\n",
              "      <th>2860</th>\n",
              "      <td>2800</td>\n",
              "      <td>wagon</td>\n",
              "      <td>NaN</td>\n",
              "      <td>0</td>\n",
              "      <td>touran</td>\n",
              "      <td>150000</td>\n",
              "      <td>gasoline</td>\n",
              "      <td>volkswagen</td>\n",
              "      <td>no</td>\n",
              "      <td>11</td>\n",
              "    </tr>\n",
              "    <tr>\n",
              "      <th>...</th>\n",
              "      <td>...</td>\n",
              "      <td>...</td>\n",
              "      <td>...</td>\n",
              "      <td>...</td>\n",
              "      <td>...</td>\n",
              "      <td>...</td>\n",
              "      <td>...</td>\n",
              "      <td>...</td>\n",
              "      <td>...</td>\n",
              "      <td>...</td>\n",
              "    </tr>\n",
              "    <tr>\n",
              "      <th>336032</th>\n",
              "      <td>6500</td>\n",
              "      <td>sedan</td>\n",
              "      <td>auto</td>\n",
              "      <td>145</td>\n",
              "      <td>e_klasse</td>\n",
              "      <td>150000</td>\n",
              "      <td>gasoline</td>\n",
              "      <td>mercedes_benz</td>\n",
              "      <td>no</td>\n",
              "      <td>13</td>\n",
              "    </tr>\n",
              "    <tr>\n",
              "      <th>336035</th>\n",
              "      <td>4400</td>\n",
              "      <td>sedan</td>\n",
              "      <td>manual</td>\n",
              "      <td>105</td>\n",
              "      <td>leon</td>\n",
              "      <td>150000</td>\n",
              "      <td>gasoline</td>\n",
              "      <td>seat</td>\n",
              "      <td>no</td>\n",
              "      <td>8</td>\n",
              "    </tr>\n",
              "    <tr>\n",
              "      <th>336038</th>\n",
              "      <td>1490</td>\n",
              "      <td>small</td>\n",
              "      <td>manual</td>\n",
              "      <td>50</td>\n",
              "      <td>lupo</td>\n",
              "      <td>150000</td>\n",
              "      <td>petrol</td>\n",
              "      <td>volkswagen</td>\n",
              "      <td>no</td>\n",
              "      <td>18</td>\n",
              "    </tr>\n",
              "    <tr>\n",
              "      <th>336039</th>\n",
              "      <td>7900</td>\n",
              "      <td>sedan</td>\n",
              "      <td>manual</td>\n",
              "      <td>140</td>\n",
              "      <td>golf</td>\n",
              "      <td>150000</td>\n",
              "      <td>gasoline</td>\n",
              "      <td>volkswagen</td>\n",
              "      <td>no</td>\n",
              "      <td>6</td>\n",
              "    </tr>\n",
              "    <tr>\n",
              "      <th>336043</th>\n",
              "      <td>1150</td>\n",
              "      <td>bus</td>\n",
              "      <td>manual</td>\n",
              "      <td>0</td>\n",
              "      <td>zafira</td>\n",
              "      <td>150000</td>\n",
              "      <td>petrol</td>\n",
              "      <td>opel</td>\n",
              "      <td>no</td>\n",
              "      <td>16</td>\n",
              "    </tr>\n",
              "  </tbody>\n",
              "</table>\n",
              "<p>43661 rows × 10 columns</p>\n",
              "</div>"
            ],
            "text/plain": [
              "        Price VehicleType Gearbox  ...          Brand NotRepaired  Car_age\n",
              "1052      950       small  manual  ...     volkswagen          no       17\n",
              "1316        0         NaN     NaN  ...          volvo         NaN       16\n",
              "2051        0       coupe  manual  ...  mercedes_benz          no       14\n",
              "2676     1499       small  manual  ...           opel          no       15\n",
              "2860     2800       wagon     NaN  ...     volkswagen          no       11\n",
              "...       ...         ...     ...  ...            ...         ...      ...\n",
              "336032   6500       sedan    auto  ...  mercedes_benz          no       13\n",
              "336035   4400       sedan  manual  ...           seat          no        8\n",
              "336038   1490       small  manual  ...     volkswagen          no       18\n",
              "336039   7900       sedan  manual  ...     volkswagen          no        6\n",
              "336043   1150         bus  manual  ...           opel          no       16\n",
              "\n",
              "[43661 rows x 10 columns]"
            ]
          },
          "metadata": {
            "tags": []
          },
          "execution_count": 22
        }
      ]
    },
    {
      "cell_type": "markdown",
      "metadata": {
        "id": "tuTFR0KDuKxF"
      },
      "source": [
        "## Функция кодирование категориальных признаков"
      ]
    },
    {
      "cell_type": "code",
      "metadata": {
        "id": "C0l2SgkKuKxG"
      },
      "source": [
        "def enum_column(data, column):\n",
        "    '''\n",
        "    Функция принимает на вход массив data и название колонки в массиве column, которую будем кодировать.\n",
        "    Создаем словарь с нумерацией, испоьзуя функцию enumerate.\n",
        "    Подставляем цифры вместо названий в ячейках через метод map.\n",
        "    Возвращаем массив data и, если был пропуск, то число, заменяющее пропуск\n",
        "    '''\n",
        "    col_dct = dict(enumerate(data[column].unique()))\n",
        "    col_dict = {v:k for k,v in col_dct.items()}\n",
        "    if 'unknown' in col_dict:\n",
        "        un_known = col_dict[\"unknown\"]\n",
        "        data[column] = data[column].map(col_dict)\n",
        "        return data, un_known\n",
        "    else:\n",
        "        data[column] = data[column].map(col_dict)\n",
        "        return data"
      ],
      "execution_count": null,
      "outputs": []
    },
    {
      "cell_type": "markdown",
      "metadata": {
        "id": "51FyRqTguKxH"
      },
      "source": [
        "## Заполнение пропусков модели"
      ]
    },
    {
      "cell_type": "code",
      "metadata": {
        "id": "OOX2DwJ9uKxI"
      },
      "source": [
        "# Функция модели предсказания пропуска\n",
        "\n",
        "def knn_clf(X_train, y_train, X_test):\n",
        "    knn_model = KNeighborsClassifier()\n",
        "    knn_model.fit(X_train, y_train)\n",
        "    return knn_model.predict(X_test)"
      ],
      "execution_count": null,
      "outputs": []
    },
    {
      "cell_type": "code",
      "metadata": {
        "scrolled": false,
        "id": "bt29CU1uuKxJ"
      },
      "source": [
        "# С помощью модели Ближайших соседей заполним пропуски.\n",
        "\n",
        "for brand in df['Brand'].unique():\n",
        "    brand_df = df[df['Brand']==brand][['Price','Car_age','Power','Model','Kilometer']]\n",
        "    brand_df_zeros = brand_df[brand_df['Model'].isna()==True]\n",
        "    brand_df_train = brand_df[brand_df['Model'].isna()==False]\n",
        "    \n",
        "    \n",
        "    model_dct = dict(enumerate(brand_df_train['Model'].unique()))\n",
        "    model_dict = {v:k for k,v in model_dct.items()}\n",
        "    brand_df_train['Model'] = brand_df_train['Model'].map(model_dict)\n",
        "    \n",
        "    try:\n",
        "        X_train = brand_df_train.drop(['Model'], axis = 1)\n",
        "        y_train = brand_df_train['Model']\n",
        "        X_test = brand_df_zeros.drop(['Model'], axis = 1)\n",
        "        brand_df_zeros['Model'] = knn_clf(X_train, y_train, X_test)\n",
        "        brand_df_zeros['model'] = brand_df_zeros['Model'].map(model_dct)\n",
        "        df['Model'].iloc[brand_df_zeros['model'].index] = np.array(brand_df_zeros['model'])\n",
        "    except:\n",
        "        pass    "
      ],
      "execution_count": null,
      "outputs": []
    },
    {
      "cell_type": "code",
      "metadata": {
        "id": "XUduTbKNuKxK",
        "colab": {
          "base_uri": "https://localhost:8080/"
        },
        "outputId": "a31a895a-aa1e-40d2-a896-a387888fa171"
      },
      "source": [
        "df['Model'].isna().sum()"
      ],
      "execution_count": null,
      "outputs": [
        {
          "output_type": "execute_result",
          "data": {
            "text/plain": [
              "0"
            ]
          },
          "metadata": {
            "tags": []
          },
          "execution_count": 26
        }
      ]
    },
    {
      "cell_type": "code",
      "metadata": {
        "id": "ETw4drJouKxK"
      },
      "source": [
        "df = enum_column(df, 'Model')"
      ],
      "execution_count": null,
      "outputs": []
    },
    {
      "cell_type": "code",
      "metadata": {
        "id": "9tIeRJQ4uKxL"
      },
      "source": [
        "# Заполним пропуски словом unknown, чтобы удобно было применить \n",
        "df = df.fillna('unknown')"
      ],
      "execution_count": null,
      "outputs": []
    },
    {
      "cell_type": "code",
      "metadata": {
        "id": "cq14sn1YuKxL",
        "colab": {
          "base_uri": "https://localhost:8080/",
          "height": 204
        },
        "outputId": "17fcccd2-aaae-4012-c98e-78efc634af49"
      },
      "source": [
        "df.head()"
      ],
      "execution_count": null,
      "outputs": [
        {
          "output_type": "execute_result",
          "data": {
            "text/html": [
              "<div>\n",
              "<style scoped>\n",
              "    .dataframe tbody tr th:only-of-type {\n",
              "        vertical-align: middle;\n",
              "    }\n",
              "\n",
              "    .dataframe tbody tr th {\n",
              "        vertical-align: top;\n",
              "    }\n",
              "\n",
              "    .dataframe thead th {\n",
              "        text-align: right;\n",
              "    }\n",
              "</style>\n",
              "<table border=\"1\" class=\"dataframe\">\n",
              "  <thead>\n",
              "    <tr style=\"text-align: right;\">\n",
              "      <th></th>\n",
              "      <th>Price</th>\n",
              "      <th>VehicleType</th>\n",
              "      <th>Gearbox</th>\n",
              "      <th>Power</th>\n",
              "      <th>Model</th>\n",
              "      <th>Kilometer</th>\n",
              "      <th>FuelType</th>\n",
              "      <th>Brand</th>\n",
              "      <th>NotRepaired</th>\n",
              "      <th>Car_age</th>\n",
              "    </tr>\n",
              "  </thead>\n",
              "  <tbody>\n",
              "    <tr>\n",
              "      <th>0</th>\n",
              "      <td>480</td>\n",
              "      <td>unknown</td>\n",
              "      <td>manual</td>\n",
              "      <td>0</td>\n",
              "      <td>0</td>\n",
              "      <td>150000</td>\n",
              "      <td>petrol</td>\n",
              "      <td>volkswagen</td>\n",
              "      <td>unknown</td>\n",
              "      <td>23</td>\n",
              "    </tr>\n",
              "    <tr>\n",
              "      <th>1</th>\n",
              "      <td>18300</td>\n",
              "      <td>coupe</td>\n",
              "      <td>manual</td>\n",
              "      <td>190</td>\n",
              "      <td>1</td>\n",
              "      <td>125000</td>\n",
              "      <td>gasoline</td>\n",
              "      <td>audi</td>\n",
              "      <td>yes</td>\n",
              "      <td>5</td>\n",
              "    </tr>\n",
              "    <tr>\n",
              "      <th>2</th>\n",
              "      <td>9800</td>\n",
              "      <td>suv</td>\n",
              "      <td>auto</td>\n",
              "      <td>163</td>\n",
              "      <td>2</td>\n",
              "      <td>125000</td>\n",
              "      <td>gasoline</td>\n",
              "      <td>jeep</td>\n",
              "      <td>unknown</td>\n",
              "      <td>12</td>\n",
              "    </tr>\n",
              "    <tr>\n",
              "      <th>3</th>\n",
              "      <td>1500</td>\n",
              "      <td>small</td>\n",
              "      <td>manual</td>\n",
              "      <td>75</td>\n",
              "      <td>0</td>\n",
              "      <td>150000</td>\n",
              "      <td>petrol</td>\n",
              "      <td>volkswagen</td>\n",
              "      <td>no</td>\n",
              "      <td>15</td>\n",
              "    </tr>\n",
              "    <tr>\n",
              "      <th>4</th>\n",
              "      <td>3600</td>\n",
              "      <td>small</td>\n",
              "      <td>manual</td>\n",
              "      <td>69</td>\n",
              "      <td>3</td>\n",
              "      <td>90000</td>\n",
              "      <td>gasoline</td>\n",
              "      <td>skoda</td>\n",
              "      <td>no</td>\n",
              "      <td>8</td>\n",
              "    </tr>\n",
              "  </tbody>\n",
              "</table>\n",
              "</div>"
            ],
            "text/plain": [
              "   Price VehicleType Gearbox  Power  ...  FuelType       Brand NotRepaired Car_age\n",
              "0    480     unknown  manual      0  ...    petrol  volkswagen     unknown      23\n",
              "1  18300       coupe  manual    190  ...  gasoline        audi         yes       5\n",
              "2   9800         suv    auto    163  ...  gasoline        jeep     unknown      12\n",
              "3   1500       small  manual     75  ...    petrol  volkswagen          no      15\n",
              "4   3600       small  manual     69  ...  gasoline       skoda          no       8\n",
              "\n",
              "[5 rows x 10 columns]"
            ]
          },
          "metadata": {
            "tags": []
          },
          "execution_count": 29
        }
      ]
    },
    {
      "cell_type": "markdown",
      "metadata": {
        "id": "hEfOcMecuKxL"
      },
      "source": [
        "## Кодирование столбцов"
      ]
    },
    {
      "cell_type": "code",
      "metadata": {
        "id": "sbtCUtVouKxL"
      },
      "source": [
        "df = enum_column(df, 'Brand')"
      ],
      "execution_count": null,
      "outputs": []
    },
    {
      "cell_type": "code",
      "metadata": {
        "id": "oW3DJcAuuKxL"
      },
      "source": [
        "for column in ['VehicleType', 'FuelType', 'Gearbox']:\n",
        "    df, un_known = enum_column(df, column)\n",
        "    X_train = df.loc[df[column]!=un_known, ['Model', 'Car_age', 'Brand']]\n",
        "    y_train = df.loc[df[column]!=un_known, column]\n",
        "    X_test = df.loc[df[column]==un_known, ['Model', 'Car_age', 'Brand']]\n",
        "    y_test = knn_clf(X_train, y_train, X_test)\n",
        "    df.loc[df[column]==un_known, column] = y_test"
      ],
      "execution_count": null,
      "outputs": []
    },
    {
      "cell_type": "code",
      "metadata": {
        "id": "83XEOsOVuKxM"
      },
      "source": [
        "df = enum_column(df, 'NotRepaired')[0]"
      ],
      "execution_count": null,
      "outputs": []
    },
    {
      "cell_type": "code",
      "metadata": {
        "id": "YkKAt1wruKxM",
        "colab": {
          "base_uri": "https://localhost:8080/",
          "height": 204
        },
        "outputId": "15d5f1e5-3d1a-4d4b-d9bb-c00c0df2742a"
      },
      "source": [
        "df.head()"
      ],
      "execution_count": null,
      "outputs": [
        {
          "output_type": "execute_result",
          "data": {
            "text/html": [
              "<div>\n",
              "<style scoped>\n",
              "    .dataframe tbody tr th:only-of-type {\n",
              "        vertical-align: middle;\n",
              "    }\n",
              "\n",
              "    .dataframe tbody tr th {\n",
              "        vertical-align: top;\n",
              "    }\n",
              "\n",
              "    .dataframe thead th {\n",
              "        text-align: right;\n",
              "    }\n",
              "</style>\n",
              "<table border=\"1\" class=\"dataframe\">\n",
              "  <thead>\n",
              "    <tr style=\"text-align: right;\">\n",
              "      <th></th>\n",
              "      <th>Price</th>\n",
              "      <th>VehicleType</th>\n",
              "      <th>Gearbox</th>\n",
              "      <th>Power</th>\n",
              "      <th>Model</th>\n",
              "      <th>Kilometer</th>\n",
              "      <th>FuelType</th>\n",
              "      <th>Brand</th>\n",
              "      <th>NotRepaired</th>\n",
              "      <th>Car_age</th>\n",
              "    </tr>\n",
              "  </thead>\n",
              "  <tbody>\n",
              "    <tr>\n",
              "      <th>0</th>\n",
              "      <td>480</td>\n",
              "      <td>3</td>\n",
              "      <td>0</td>\n",
              "      <td>0</td>\n",
              "      <td>0</td>\n",
              "      <td>150000</td>\n",
              "      <td>0</td>\n",
              "      <td>0</td>\n",
              "      <td>0</td>\n",
              "      <td>23</td>\n",
              "    </tr>\n",
              "    <tr>\n",
              "      <th>1</th>\n",
              "      <td>18300</td>\n",
              "      <td>1</td>\n",
              "      <td>0</td>\n",
              "      <td>190</td>\n",
              "      <td>1</td>\n",
              "      <td>125000</td>\n",
              "      <td>1</td>\n",
              "      <td>1</td>\n",
              "      <td>1</td>\n",
              "      <td>5</td>\n",
              "    </tr>\n",
              "    <tr>\n",
              "      <th>2</th>\n",
              "      <td>9800</td>\n",
              "      <td>2</td>\n",
              "      <td>1</td>\n",
              "      <td>163</td>\n",
              "      <td>2</td>\n",
              "      <td>125000</td>\n",
              "      <td>1</td>\n",
              "      <td>2</td>\n",
              "      <td>0</td>\n",
              "      <td>12</td>\n",
              "    </tr>\n",
              "    <tr>\n",
              "      <th>3</th>\n",
              "      <td>1500</td>\n",
              "      <td>3</td>\n",
              "      <td>0</td>\n",
              "      <td>75</td>\n",
              "      <td>0</td>\n",
              "      <td>150000</td>\n",
              "      <td>0</td>\n",
              "      <td>0</td>\n",
              "      <td>2</td>\n",
              "      <td>15</td>\n",
              "    </tr>\n",
              "    <tr>\n",
              "      <th>4</th>\n",
              "      <td>3600</td>\n",
              "      <td>3</td>\n",
              "      <td>0</td>\n",
              "      <td>69</td>\n",
              "      <td>3</td>\n",
              "      <td>90000</td>\n",
              "      <td>1</td>\n",
              "      <td>3</td>\n",
              "      <td>2</td>\n",
              "      <td>8</td>\n",
              "    </tr>\n",
              "  </tbody>\n",
              "</table>\n",
              "</div>"
            ],
            "text/plain": [
              "   Price  VehicleType  Gearbox  Power  ...  FuelType  Brand  NotRepaired  Car_age\n",
              "0    480            3        0      0  ...         0      0            0       23\n",
              "1  18300            1        0    190  ...         1      1            1        5\n",
              "2   9800            2        1    163  ...         1      2            0       12\n",
              "3   1500            3        0     75  ...         0      0            2       15\n",
              "4   3600            3        0     69  ...         1      3            2        8\n",
              "\n",
              "[5 rows x 10 columns]"
            ]
          },
          "metadata": {
            "tags": []
          },
          "execution_count": 33
        }
      ]
    },
    {
      "cell_type": "markdown",
      "metadata": {
        "id": "K56x7rGtuKxM"
      },
      "source": [
        "## Обучение моделей"
      ]
    },
    {
      "cell_type": "code",
      "metadata": {
        "id": "tHPXW7eguKxN"
      },
      "source": [
        "# Поделим наш массив на выборки для обучения моделей\n",
        "X = df.drop('Price', axis = 1)\n",
        "y = df['Price']"
      ],
      "execution_count": null,
      "outputs": []
    },
    {
      "cell_type": "code",
      "metadata": {
        "id": "1f_Ef8bYuKxN"
      },
      "source": [
        "X_train, X_test, y_train, y_test = train_test_split(X, y, test_size = 0.2, random_state = 0)\n",
        "numeric_features = ['Power', 'Kilometer', 'Car_age']\n",
        "categ_features = ['VehicleType', 'Gearbox', 'Model', 'FuelType', 'Brand', 'NotRepaired']"
      ],
      "execution_count": null,
      "outputs": []
    },
    {
      "cell_type": "code",
      "metadata": {
        "id": "HCDUvcEiuKxN"
      },
      "source": [
        "# Создадим списки данных для наших моделей: Линейная регрессия, Лес и LGBM\n",
        "names = [\n",
        "    'LinearRegression',\n",
        "    'RandomForestRegressor',\n",
        "    'LGBMRegressor',\n",
        "    'CatBoostRegressor'\n",
        "]\n",
        "\n",
        "models = [\n",
        "    LinearRegression(),\n",
        "    RandomForestRegressor(),\n",
        "    LGBMRegressor(),\n",
        "    CatBoostRegressor()\n",
        "]\n",
        "\n",
        "parameters = [\n",
        "    {},\n",
        "    {'model__n_estimators':[101],\n",
        "     'model__max_depth':[19],\n",
        "     'model__random_state':[0]\n",
        "    },\n",
        "    {'model__max_depth':[12],\n",
        "     'model__learning_rate' : [0.4],\n",
        "    'model__n_estimators':[111],\n",
        "     'model__random_state':[0]\n",
        "    },\n",
        "    {'model__iterations':[200],\n",
        "     'model__learning_rate':[0.4],\n",
        "     'model__max_depth':[12],\n",
        "     'model__random_seed':[0],\n",
        "     'model__loss_function':['RMSE']\n",
        "     }\n",
        "]"
      ],
      "execution_count": null,
      "outputs": []
    },
    {
      "cell_type": "code",
      "metadata": {
        "id": "sZkclRQeuKxN"
      },
      "source": [
        "def model_train(model, param_grid):\n",
        "    '''\n",
        "    Функция принимает на вход модель и набор гиперпараметров,\n",
        "    подбирает наилучшие гиперпараметры через GridSearchCV библиотеку, где предварительно\n",
        "    колонки Power, Kilometer и car_age масштабируются\n",
        "    '''\n",
        "    preprocessor = ColumnTransformer(transformers = [('num', StandardScaler(), numeric_features)],\n",
        "                                     remainder = 'passthrough')\n",
        "    clf = Pipeline(steps = [('model', model),\n",
        "                        ('model', model)])\n",
        "    start_time = time.time()\n",
        "    grid = GridSearchCV(clf, param_grid, cv= 5, n_jobs = -1, scoring = 'neg_mean_squared_error').fit(X_train, y_train)\n",
        "    \n",
        "    train_time = round(time.time()-start_time,2)\n",
        "    #return grid.best_estimator_, grid.best_params_\n",
        "    return grid.best_estimator_, train_time"
      ],
      "execution_count": null,
      "outputs": []
    },
    {
      "cell_type": "code",
      "metadata": {
        "id": "TO5ORCmPuKxN"
      },
      "source": [
        "# Создадим таблицу, где будем сохранять результаты обучения и предсказания моделей\n",
        "column = ['Модель', 'Гиперпараметры', 'Время обучения, сек', 'Время предсказания, сек', 'Метрика RMSE, евро']\n",
        "results = pd.DataFrame(columns=column)"
      ],
      "execution_count": null,
      "outputs": []
    },
    {
      "cell_type": "code",
      "metadata": {
        "scrolled": false,
        "id": "vPUcpqKVuKxO",
        "colab": {
          "base_uri": "https://localhost:8080/"
        },
        "outputId": "ddca4317-8b0b-4caa-f091-603a9f49b253"
      },
      "source": [
        "# В цикле обучим наши модели из списка, посчитаем время предсказания и метрику RMSE, сохраним результаты в таблице\n",
        "for name, model, param_grid in zip(names,models, parameters):\n",
        "    model, train_time = model_train(model, param_grid)\n",
        "    model.fit(X_train, y_train)\n",
        "    start_time = time.time()\n",
        "    y_pred = model.predict(X_test)\n",
        "    predict_time = round(time.time()-start_time, 2)\n",
        "    rmse = mean_squared_error(y_test, y_pred)**0.5\n",
        "    results = pd.concat([results, pd.DataFrame([[name, model, train_time, predict_time, rmse]], columns = column)])"
      ],
      "execution_count": null,
      "outputs": [
        {
          "output_type": "stream",
          "text": [
            "0:\tlearn: 3308.0335720\ttotal: 233ms\tremaining: 46.4s\n",
            "1:\tlearn: 2666.2695613\ttotal: 358ms\tremaining: 35.4s\n",
            "2:\tlearn: 2338.2945817\ttotal: 483ms\tremaining: 31.7s\n",
            "3:\tlearn: 2130.9396499\ttotal: 605ms\tremaining: 29.6s\n",
            "4:\tlearn: 2039.0243890\ttotal: 730ms\tremaining: 28.5s\n",
            "5:\tlearn: 1961.7731182\ttotal: 859ms\tremaining: 27.8s\n",
            "6:\tlearn: 1920.4471564\ttotal: 987ms\tremaining: 27.2s\n",
            "7:\tlearn: 1893.4743153\ttotal: 1.11s\tremaining: 26.7s\n",
            "8:\tlearn: 1862.7207885\ttotal: 1.23s\tremaining: 26.2s\n",
            "9:\tlearn: 1844.8323838\ttotal: 1.36s\tremaining: 25.8s\n",
            "10:\tlearn: 1828.0797352\ttotal: 1.48s\tremaining: 25.5s\n",
            "11:\tlearn: 1815.1853175\ttotal: 1.61s\tremaining: 25.2s\n",
            "12:\tlearn: 1799.6379193\ttotal: 1.73s\tremaining: 24.9s\n",
            "13:\tlearn: 1790.4712868\ttotal: 1.86s\tremaining: 24.7s\n",
            "14:\tlearn: 1783.2081584\ttotal: 1.98s\tremaining: 24.4s\n",
            "15:\tlearn: 1769.1601767\ttotal: 2.11s\tremaining: 24.3s\n",
            "16:\tlearn: 1758.3818161\ttotal: 2.23s\tremaining: 24s\n",
            "17:\tlearn: 1753.0956709\ttotal: 2.36s\tremaining: 23.9s\n",
            "18:\tlearn: 1747.7310348\ttotal: 2.48s\tremaining: 23.7s\n",
            "19:\tlearn: 1740.7804284\ttotal: 2.61s\tremaining: 23.5s\n",
            "20:\tlearn: 1733.5521691\ttotal: 2.73s\tremaining: 23.3s\n",
            "21:\tlearn: 1724.7570906\ttotal: 2.86s\tremaining: 23.1s\n",
            "22:\tlearn: 1717.4626255\ttotal: 2.98s\tremaining: 22.9s\n",
            "23:\tlearn: 1712.9713278\ttotal: 3.11s\tremaining: 22.8s\n",
            "24:\tlearn: 1707.7546112\ttotal: 3.23s\tremaining: 22.6s\n",
            "25:\tlearn: 1703.9398335\ttotal: 3.35s\tremaining: 22.4s\n",
            "26:\tlearn: 1699.1382255\ttotal: 3.48s\tremaining: 22.3s\n",
            "27:\tlearn: 1694.3449137\ttotal: 3.6s\tremaining: 22.1s\n",
            "28:\tlearn: 1688.7239806\ttotal: 3.72s\tremaining: 22s\n",
            "29:\tlearn: 1682.9284247\ttotal: 3.85s\tremaining: 21.8s\n",
            "30:\tlearn: 1677.6670641\ttotal: 3.98s\tremaining: 21.7s\n",
            "31:\tlearn: 1670.9439284\ttotal: 4.11s\tremaining: 21.6s\n",
            "32:\tlearn: 1666.0367175\ttotal: 4.23s\tremaining: 21.4s\n",
            "33:\tlearn: 1661.4480201\ttotal: 4.35s\tremaining: 21.2s\n",
            "34:\tlearn: 1656.6863982\ttotal: 4.47s\tremaining: 21.1s\n",
            "35:\tlearn: 1653.3081557\ttotal: 4.58s\tremaining: 20.9s\n",
            "36:\tlearn: 1650.3304787\ttotal: 4.71s\tremaining: 20.7s\n",
            "37:\tlearn: 1646.0761079\ttotal: 4.83s\tremaining: 20.6s\n",
            "38:\tlearn: 1643.0934833\ttotal: 4.96s\tremaining: 20.5s\n",
            "39:\tlearn: 1636.4195052\ttotal: 5.08s\tremaining: 20.3s\n",
            "40:\tlearn: 1632.3772107\ttotal: 5.2s\tremaining: 20.2s\n",
            "41:\tlearn: 1627.6110176\ttotal: 5.32s\tremaining: 20s\n",
            "42:\tlearn: 1623.0973659\ttotal: 5.45s\tremaining: 19.9s\n",
            "43:\tlearn: 1619.7030591\ttotal: 5.57s\tremaining: 19.7s\n",
            "44:\tlearn: 1615.4947212\ttotal: 5.69s\tremaining: 19.6s\n",
            "45:\tlearn: 1613.5079838\ttotal: 5.82s\tremaining: 19.5s\n",
            "46:\tlearn: 1608.4291024\ttotal: 5.94s\tremaining: 19.3s\n",
            "47:\tlearn: 1605.1840519\ttotal: 6.06s\tremaining: 19.2s\n",
            "48:\tlearn: 1602.7976405\ttotal: 6.18s\tremaining: 19.1s\n",
            "49:\tlearn: 1600.3238811\ttotal: 6.3s\tremaining: 18.9s\n",
            "50:\tlearn: 1597.6098955\ttotal: 6.42s\tremaining: 18.8s\n",
            "51:\tlearn: 1595.4365129\ttotal: 6.54s\tremaining: 18.6s\n",
            "52:\tlearn: 1591.4983744\ttotal: 6.66s\tremaining: 18.5s\n",
            "53:\tlearn: 1587.7583066\ttotal: 6.79s\tremaining: 18.3s\n",
            "54:\tlearn: 1585.9771387\ttotal: 6.92s\tremaining: 18.2s\n",
            "55:\tlearn: 1580.0838759\ttotal: 7.05s\tremaining: 18.1s\n",
            "56:\tlearn: 1575.4636555\ttotal: 7.18s\tremaining: 18s\n",
            "57:\tlearn: 1572.0847314\ttotal: 7.3s\tremaining: 17.9s\n",
            "58:\tlearn: 1569.0959874\ttotal: 7.42s\tremaining: 17.7s\n",
            "59:\tlearn: 1567.4868555\ttotal: 7.54s\tremaining: 17.6s\n",
            "60:\tlearn: 1564.8133091\ttotal: 7.67s\tremaining: 17.5s\n",
            "61:\tlearn: 1561.8064954\ttotal: 7.79s\tremaining: 17.3s\n",
            "62:\tlearn: 1558.5347849\ttotal: 7.92s\tremaining: 17.2s\n",
            "63:\tlearn: 1557.1939689\ttotal: 8.04s\tremaining: 17.1s\n",
            "64:\tlearn: 1554.7325426\ttotal: 8.16s\tremaining: 16.9s\n",
            "65:\tlearn: 1553.1893419\ttotal: 8.28s\tremaining: 16.8s\n",
            "66:\tlearn: 1551.1372592\ttotal: 8.4s\tremaining: 16.7s\n",
            "67:\tlearn: 1548.6912533\ttotal: 8.53s\tremaining: 16.5s\n",
            "68:\tlearn: 1546.6477776\ttotal: 8.65s\tremaining: 16.4s\n",
            "69:\tlearn: 1544.2615833\ttotal: 8.77s\tremaining: 16.3s\n",
            "70:\tlearn: 1542.7752586\ttotal: 8.9s\tremaining: 16.2s\n",
            "71:\tlearn: 1541.6443407\ttotal: 9.02s\tremaining: 16s\n",
            "72:\tlearn: 1539.5129477\ttotal: 9.15s\tremaining: 15.9s\n",
            "73:\tlearn: 1535.5419424\ttotal: 9.27s\tremaining: 15.8s\n",
            "74:\tlearn: 1533.3737243\ttotal: 9.39s\tremaining: 15.7s\n",
            "75:\tlearn: 1530.4328393\ttotal: 9.51s\tremaining: 15.5s\n",
            "76:\tlearn: 1527.7700284\ttotal: 9.64s\tremaining: 15.4s\n",
            "77:\tlearn: 1525.3595399\ttotal: 9.76s\tremaining: 15.3s\n",
            "78:\tlearn: 1522.6642763\ttotal: 9.89s\tremaining: 15.2s\n",
            "79:\tlearn: 1521.3422744\ttotal: 10s\tremaining: 15s\n",
            "80:\tlearn: 1519.1767701\ttotal: 10.1s\tremaining: 14.9s\n",
            "81:\tlearn: 1517.0612391\ttotal: 10.3s\tremaining: 14.8s\n",
            "82:\tlearn: 1514.4907359\ttotal: 10.4s\tremaining: 14.6s\n",
            "83:\tlearn: 1512.9875660\ttotal: 10.5s\tremaining: 14.5s\n",
            "84:\tlearn: 1510.9064474\ttotal: 10.6s\tremaining: 14.4s\n",
            "85:\tlearn: 1507.4856603\ttotal: 10.7s\tremaining: 14.2s\n",
            "86:\tlearn: 1506.4532122\ttotal: 10.9s\tremaining: 14.1s\n",
            "87:\tlearn: 1504.2313306\ttotal: 11s\tremaining: 14s\n",
            "88:\tlearn: 1501.9716285\ttotal: 11.1s\tremaining: 13.9s\n",
            "89:\tlearn: 1501.0840604\ttotal: 11.2s\tremaining: 13.7s\n",
            "90:\tlearn: 1497.4894772\ttotal: 11.4s\tremaining: 13.6s\n",
            "91:\tlearn: 1495.1930889\ttotal: 11.5s\tremaining: 13.5s\n",
            "92:\tlearn: 1492.7867039\ttotal: 11.6s\tremaining: 13.4s\n",
            "93:\tlearn: 1490.6692230\ttotal: 11.7s\tremaining: 13.2s\n",
            "94:\tlearn: 1489.9513665\ttotal: 11.9s\tremaining: 13.1s\n",
            "95:\tlearn: 1488.3237147\ttotal: 12s\tremaining: 13s\n",
            "96:\tlearn: 1486.2348466\ttotal: 12.1s\tremaining: 12.9s\n",
            "97:\tlearn: 1484.3300499\ttotal: 12.2s\tremaining: 12.7s\n",
            "98:\tlearn: 1482.8893327\ttotal: 12.3s\tremaining: 12.6s\n",
            "99:\tlearn: 1480.8716802\ttotal: 12.5s\tremaining: 12.5s\n",
            "100:\tlearn: 1479.5242936\ttotal: 12.6s\tremaining: 12.3s\n",
            "101:\tlearn: 1478.1378071\ttotal: 12.7s\tremaining: 12.2s\n",
            "102:\tlearn: 1476.0553657\ttotal: 12.8s\tremaining: 12.1s\n",
            "103:\tlearn: 1474.9691080\ttotal: 13s\tremaining: 12s\n",
            "104:\tlearn: 1474.1220379\ttotal: 13.1s\tremaining: 11.8s\n",
            "105:\tlearn: 1472.1480657\ttotal: 13.2s\tremaining: 11.7s\n",
            "106:\tlearn: 1471.0904082\ttotal: 13.3s\tremaining: 11.6s\n",
            "107:\tlearn: 1469.6863854\ttotal: 13.4s\tremaining: 11.5s\n",
            "108:\tlearn: 1468.1312476\ttotal: 13.6s\tremaining: 11.3s\n",
            "109:\tlearn: 1465.9711028\ttotal: 13.7s\tremaining: 11.2s\n",
            "110:\tlearn: 1465.2734723\ttotal: 13.8s\tremaining: 11.1s\n",
            "111:\tlearn: 1463.9866129\ttotal: 14s\tremaining: 11s\n",
            "112:\tlearn: 1463.0656373\ttotal: 14.1s\tremaining: 10.9s\n",
            "113:\tlearn: 1462.4379427\ttotal: 14.2s\tremaining: 10.7s\n",
            "114:\tlearn: 1460.6298675\ttotal: 14.3s\tremaining: 10.6s\n",
            "115:\tlearn: 1458.5989150\ttotal: 14.5s\tremaining: 10.5s\n",
            "116:\tlearn: 1457.1692357\ttotal: 14.6s\tremaining: 10.4s\n",
            "117:\tlearn: 1455.9095764\ttotal: 14.7s\tremaining: 10.2s\n",
            "118:\tlearn: 1454.9678136\ttotal: 14.8s\tremaining: 10.1s\n",
            "119:\tlearn: 1453.1502405\ttotal: 14.9s\tremaining: 9.97s\n",
            "120:\tlearn: 1450.9149809\ttotal: 15.1s\tremaining: 9.84s\n",
            "121:\tlearn: 1449.5481913\ttotal: 15.2s\tremaining: 9.71s\n",
            "122:\tlearn: 1448.5493657\ttotal: 15.3s\tremaining: 9.59s\n",
            "123:\tlearn: 1447.0378363\ttotal: 15.4s\tremaining: 9.46s\n",
            "124:\tlearn: 1446.1601675\ttotal: 15.6s\tremaining: 9.33s\n",
            "125:\tlearn: 1445.1983579\ttotal: 15.7s\tremaining: 9.21s\n",
            "126:\tlearn: 1444.2026408\ttotal: 15.8s\tremaining: 9.08s\n",
            "127:\tlearn: 1442.8649129\ttotal: 15.9s\tremaining: 8.95s\n",
            "128:\tlearn: 1442.2348908\ttotal: 16s\tremaining: 8.83s\n",
            "129:\tlearn: 1441.2205617\ttotal: 16.2s\tremaining: 8.7s\n",
            "130:\tlearn: 1440.4472141\ttotal: 16.3s\tremaining: 8.57s\n",
            "131:\tlearn: 1439.0539119\ttotal: 16.4s\tremaining: 8.45s\n",
            "132:\tlearn: 1437.6479736\ttotal: 16.5s\tremaining: 8.32s\n",
            "133:\tlearn: 1435.3963031\ttotal: 16.6s\tremaining: 8.2s\n",
            "134:\tlearn: 1433.9335431\ttotal: 16.8s\tremaining: 8.07s\n",
            "135:\tlearn: 1432.7654516\ttotal: 16.9s\tremaining: 7.95s\n",
            "136:\tlearn: 1432.0368357\ttotal: 17s\tremaining: 7.82s\n",
            "137:\tlearn: 1429.7074789\ttotal: 17.1s\tremaining: 7.7s\n",
            "138:\tlearn: 1428.8624492\ttotal: 17.3s\tremaining: 7.57s\n",
            "139:\tlearn: 1428.1079617\ttotal: 17.4s\tremaining: 7.45s\n",
            "140:\tlearn: 1426.7507668\ttotal: 17.5s\tremaining: 7.32s\n",
            "141:\tlearn: 1426.0813588\ttotal: 17.6s\tremaining: 7.19s\n",
            "142:\tlearn: 1424.4648999\ttotal: 17.7s\tremaining: 7.07s\n",
            "143:\tlearn: 1423.1920661\ttotal: 17.8s\tremaining: 6.94s\n",
            "144:\tlearn: 1422.3931397\ttotal: 18s\tremaining: 6.82s\n",
            "145:\tlearn: 1421.4954412\ttotal: 18.1s\tremaining: 6.69s\n",
            "146:\tlearn: 1420.2170266\ttotal: 18.2s\tremaining: 6.56s\n",
            "147:\tlearn: 1419.6501459\ttotal: 18.3s\tremaining: 6.44s\n",
            "148:\tlearn: 1418.3831264\ttotal: 18.4s\tremaining: 6.31s\n",
            "149:\tlearn: 1417.8133119\ttotal: 18.6s\tremaining: 6.19s\n",
            "150:\tlearn: 1417.0836103\ttotal: 18.7s\tremaining: 6.06s\n",
            "151:\tlearn: 1415.9017016\ttotal: 18.8s\tremaining: 5.94s\n",
            "152:\tlearn: 1414.8338832\ttotal: 18.9s\tremaining: 5.81s\n",
            "153:\tlearn: 1412.7699749\ttotal: 19.1s\tremaining: 5.69s\n",
            "154:\tlearn: 1411.7140638\ttotal: 19.2s\tremaining: 5.57s\n",
            "155:\tlearn: 1410.7678964\ttotal: 19.3s\tremaining: 5.44s\n",
            "156:\tlearn: 1410.3203278\ttotal: 19.4s\tremaining: 5.31s\n",
            "157:\tlearn: 1409.4005430\ttotal: 19.5s\tremaining: 5.19s\n",
            "158:\tlearn: 1408.4171859\ttotal: 19.6s\tremaining: 5.06s\n",
            "159:\tlearn: 1407.7303735\ttotal: 19.8s\tremaining: 4.94s\n",
            "160:\tlearn: 1406.2844640\ttotal: 19.9s\tremaining: 4.82s\n",
            "161:\tlearn: 1405.7565012\ttotal: 20s\tremaining: 4.69s\n",
            "162:\tlearn: 1404.7328210\ttotal: 20.1s\tremaining: 4.57s\n",
            "163:\tlearn: 1404.6886009\ttotal: 20.2s\tremaining: 4.43s\n",
            "164:\tlearn: 1404.1785584\ttotal: 20.3s\tremaining: 4.3s\n",
            "165:\tlearn: 1403.2187316\ttotal: 20.4s\tremaining: 4.18s\n",
            "166:\tlearn: 1400.4420404\ttotal: 20.5s\tremaining: 4.06s\n",
            "167:\tlearn: 1398.9747915\ttotal: 20.7s\tremaining: 3.93s\n",
            "168:\tlearn: 1398.2731763\ttotal: 20.8s\tremaining: 3.81s\n",
            "169:\tlearn: 1397.0580772\ttotal: 20.9s\tremaining: 3.69s\n",
            "170:\tlearn: 1396.5404626\ttotal: 21s\tremaining: 3.56s\n",
            "171:\tlearn: 1395.9441531\ttotal: 21.1s\tremaining: 3.44s\n",
            "172:\tlearn: 1394.8673825\ttotal: 21.3s\tremaining: 3.32s\n",
            "173:\tlearn: 1394.2529210\ttotal: 21.4s\tremaining: 3.19s\n",
            "174:\tlearn: 1393.5944742\ttotal: 21.5s\tremaining: 3.07s\n",
            "175:\tlearn: 1392.1203989\ttotal: 21.6s\tremaining: 2.95s\n",
            "176:\tlearn: 1391.3024182\ttotal: 21.7s\tremaining: 2.83s\n",
            "177:\tlearn: 1390.6831773\ttotal: 21.9s\tremaining: 2.7s\n",
            "178:\tlearn: 1389.9379049\ttotal: 22s\tremaining: 2.58s\n",
            "179:\tlearn: 1388.9148457\ttotal: 22.1s\tremaining: 2.46s\n",
            "180:\tlearn: 1387.6457787\ttotal: 22.2s\tremaining: 2.33s\n",
            "181:\tlearn: 1386.9334775\ttotal: 22.4s\tremaining: 2.21s\n",
            "182:\tlearn: 1385.3597835\ttotal: 22.5s\tremaining: 2.09s\n",
            "183:\tlearn: 1384.3961800\ttotal: 22.6s\tremaining: 1.97s\n",
            "184:\tlearn: 1383.6093991\ttotal: 22.7s\tremaining: 1.84s\n",
            "185:\tlearn: 1383.1118650\ttotal: 22.8s\tremaining: 1.72s\n",
            "186:\tlearn: 1382.3610870\ttotal: 23s\tremaining: 1.6s\n",
            "187:\tlearn: 1381.7135478\ttotal: 23.1s\tremaining: 1.47s\n",
            "188:\tlearn: 1380.2614826\ttotal: 23.2s\tremaining: 1.35s\n",
            "189:\tlearn: 1379.3099885\ttotal: 23.3s\tremaining: 1.23s\n",
            "190:\tlearn: 1378.7708417\ttotal: 23.5s\tremaining: 1.1s\n",
            "191:\tlearn: 1377.9359902\ttotal: 23.6s\tremaining: 982ms\n",
            "192:\tlearn: 1377.1253276\ttotal: 23.7s\tremaining: 859ms\n",
            "193:\tlearn: 1375.6083546\ttotal: 23.8s\tremaining: 737ms\n",
            "194:\tlearn: 1374.8411609\ttotal: 23.9s\tremaining: 614ms\n",
            "195:\tlearn: 1373.3585472\ttotal: 24.1s\tremaining: 492ms\n",
            "196:\tlearn: 1372.8359614\ttotal: 24.2s\tremaining: 369ms\n",
            "197:\tlearn: 1371.7140720\ttotal: 24.3s\tremaining: 246ms\n",
            "198:\tlearn: 1371.0244242\ttotal: 24.5s\tremaining: 123ms\n",
            "199:\tlearn: 1370.5984737\ttotal: 24.6s\tremaining: 0us\n",
            "0:\tlearn: 3308.0335720\ttotal: 131ms\tremaining: 26s\n",
            "1:\tlearn: 2666.2695613\ttotal: 250ms\tremaining: 24.7s\n",
            "2:\tlearn: 2338.2945817\ttotal: 373ms\tremaining: 24.5s\n",
            "3:\tlearn: 2130.9396499\ttotal: 491ms\tremaining: 24.1s\n",
            "4:\tlearn: 2039.0243890\ttotal: 615ms\tremaining: 24s\n",
            "5:\tlearn: 1961.7731182\ttotal: 732ms\tremaining: 23.7s\n",
            "6:\tlearn: 1920.4471564\ttotal: 859ms\tremaining: 23.7s\n",
            "7:\tlearn: 1893.4743153\ttotal: 977ms\tremaining: 23.5s\n",
            "8:\tlearn: 1862.7207885\ttotal: 1.1s\tremaining: 23.5s\n",
            "9:\tlearn: 1844.8323838\ttotal: 1.23s\tremaining: 23.4s\n",
            "10:\tlearn: 1828.0797352\ttotal: 1.35s\tremaining: 23.3s\n",
            "11:\tlearn: 1815.1853175\ttotal: 1.48s\tremaining: 23.1s\n",
            "12:\tlearn: 1799.6379193\ttotal: 1.6s\tremaining: 23s\n",
            "13:\tlearn: 1790.4712868\ttotal: 1.72s\tremaining: 22.8s\n",
            "14:\tlearn: 1783.2081584\ttotal: 1.84s\tremaining: 22.7s\n",
            "15:\tlearn: 1769.1601767\ttotal: 1.96s\tremaining: 22.5s\n",
            "16:\tlearn: 1758.3818161\ttotal: 2.08s\tremaining: 22.4s\n",
            "17:\tlearn: 1753.0956709\ttotal: 2.21s\tremaining: 22.3s\n",
            "18:\tlearn: 1747.7310348\ttotal: 2.33s\tremaining: 22.2s\n",
            "19:\tlearn: 1740.7804284\ttotal: 2.45s\tremaining: 22.1s\n",
            "20:\tlearn: 1733.5521691\ttotal: 2.57s\tremaining: 21.9s\n",
            "21:\tlearn: 1724.7570906\ttotal: 2.69s\tremaining: 21.8s\n",
            "22:\tlearn: 1717.4626255\ttotal: 2.82s\tremaining: 21.7s\n",
            "23:\tlearn: 1712.9713278\ttotal: 2.94s\tremaining: 21.5s\n",
            "24:\tlearn: 1707.7546112\ttotal: 3.06s\tremaining: 21.4s\n",
            "25:\tlearn: 1703.9398335\ttotal: 3.19s\tremaining: 21.3s\n",
            "26:\tlearn: 1699.1382255\ttotal: 3.31s\tremaining: 21.2s\n",
            "27:\tlearn: 1694.3449137\ttotal: 3.43s\tremaining: 21.1s\n",
            "28:\tlearn: 1688.7239806\ttotal: 3.55s\tremaining: 20.9s\n",
            "29:\tlearn: 1682.9284247\ttotal: 3.66s\tremaining: 20.8s\n",
            "30:\tlearn: 1677.6670641\ttotal: 3.79s\tremaining: 20.6s\n",
            "31:\tlearn: 1670.9439284\ttotal: 3.91s\tremaining: 20.5s\n",
            "32:\tlearn: 1666.0367175\ttotal: 4.03s\tremaining: 20.4s\n",
            "33:\tlearn: 1661.4480201\ttotal: 4.15s\tremaining: 20.2s\n",
            "34:\tlearn: 1656.6863982\ttotal: 4.27s\tremaining: 20.1s\n",
            "35:\tlearn: 1653.3081557\ttotal: 4.39s\tremaining: 20s\n",
            "36:\tlearn: 1650.3304787\ttotal: 4.51s\tremaining: 19.9s\n",
            "37:\tlearn: 1646.0761079\ttotal: 4.63s\tremaining: 19.7s\n",
            "38:\tlearn: 1643.0934833\ttotal: 4.76s\tremaining: 19.6s\n",
            "39:\tlearn: 1636.4195052\ttotal: 4.88s\tremaining: 19.5s\n",
            "40:\tlearn: 1632.3772107\ttotal: 5.01s\tremaining: 19.4s\n",
            "41:\tlearn: 1627.6110176\ttotal: 5.13s\tremaining: 19.3s\n",
            "42:\tlearn: 1623.0973659\ttotal: 5.26s\tremaining: 19.2s\n",
            "43:\tlearn: 1619.7030591\ttotal: 5.38s\tremaining: 19.1s\n",
            "44:\tlearn: 1615.4947212\ttotal: 5.5s\tremaining: 18.9s\n",
            "45:\tlearn: 1613.5079838\ttotal: 5.61s\tremaining: 18.8s\n",
            "46:\tlearn: 1608.4291024\ttotal: 5.73s\tremaining: 18.7s\n",
            "47:\tlearn: 1605.1840519\ttotal: 5.85s\tremaining: 18.5s\n",
            "48:\tlearn: 1602.7976405\ttotal: 5.97s\tremaining: 18.4s\n",
            "49:\tlearn: 1600.3238811\ttotal: 6.09s\tremaining: 18.3s\n",
            "50:\tlearn: 1597.6098955\ttotal: 6.22s\tremaining: 18.2s\n",
            "51:\tlearn: 1595.4365129\ttotal: 6.34s\tremaining: 18s\n",
            "52:\tlearn: 1591.4983744\ttotal: 6.46s\tremaining: 17.9s\n",
            "53:\tlearn: 1587.7583066\ttotal: 6.58s\tremaining: 17.8s\n",
            "54:\tlearn: 1585.9771387\ttotal: 6.7s\tremaining: 17.7s\n",
            "55:\tlearn: 1580.0838759\ttotal: 6.82s\tremaining: 17.5s\n",
            "56:\tlearn: 1575.4636555\ttotal: 6.95s\tremaining: 17.4s\n",
            "57:\tlearn: 1572.0847314\ttotal: 7.06s\tremaining: 17.3s\n",
            "58:\tlearn: 1569.0959874\ttotal: 7.2s\tremaining: 17.2s\n",
            "59:\tlearn: 1567.4868555\ttotal: 7.32s\tremaining: 17.1s\n",
            "60:\tlearn: 1564.8133091\ttotal: 7.44s\tremaining: 16.9s\n",
            "61:\tlearn: 1561.8064954\ttotal: 7.55s\tremaining: 16.8s\n",
            "62:\tlearn: 1558.5347849\ttotal: 7.67s\tremaining: 16.7s\n",
            "63:\tlearn: 1557.1939689\ttotal: 7.79s\tremaining: 16.6s\n",
            "64:\tlearn: 1554.7325426\ttotal: 7.92s\tremaining: 16.4s\n",
            "65:\tlearn: 1553.1893419\ttotal: 8.04s\tremaining: 16.3s\n",
            "66:\tlearn: 1551.1372592\ttotal: 8.16s\tremaining: 16.2s\n",
            "67:\tlearn: 1548.6912533\ttotal: 8.29s\tremaining: 16.1s\n",
            "68:\tlearn: 1546.6477776\ttotal: 8.41s\tremaining: 16s\n",
            "69:\tlearn: 1544.2615833\ttotal: 8.52s\tremaining: 15.8s\n",
            "70:\tlearn: 1542.7752586\ttotal: 8.64s\tremaining: 15.7s\n",
            "71:\tlearn: 1541.6443407\ttotal: 8.76s\tremaining: 15.6s\n",
            "72:\tlearn: 1539.5129477\ttotal: 8.88s\tremaining: 15.4s\n",
            "73:\tlearn: 1535.5419424\ttotal: 9s\tremaining: 15.3s\n",
            "74:\tlearn: 1533.3737243\ttotal: 9.12s\tremaining: 15.2s\n",
            "75:\tlearn: 1530.4328393\ttotal: 9.25s\tremaining: 15.1s\n",
            "76:\tlearn: 1527.7700284\ttotal: 9.39s\tremaining: 15s\n",
            "77:\tlearn: 1525.3595399\ttotal: 9.52s\tremaining: 14.9s\n",
            "78:\tlearn: 1522.6642763\ttotal: 9.64s\tremaining: 14.8s\n",
            "79:\tlearn: 1521.3422744\ttotal: 9.75s\tremaining: 14.6s\n",
            "80:\tlearn: 1519.1767701\ttotal: 9.87s\tremaining: 14.5s\n",
            "81:\tlearn: 1517.0612391\ttotal: 9.99s\tremaining: 14.4s\n",
            "82:\tlearn: 1514.4907359\ttotal: 10.1s\tremaining: 14.3s\n",
            "83:\tlearn: 1512.9875660\ttotal: 10.2s\tremaining: 14.1s\n",
            "84:\tlearn: 1510.9064474\ttotal: 10.4s\tremaining: 14s\n",
            "85:\tlearn: 1507.4856603\ttotal: 10.5s\tremaining: 13.9s\n",
            "86:\tlearn: 1506.4532122\ttotal: 10.6s\tremaining: 13.8s\n",
            "87:\tlearn: 1504.2313306\ttotal: 10.7s\tremaining: 13.6s\n",
            "88:\tlearn: 1501.9716285\ttotal: 10.8s\tremaining: 13.5s\n",
            "89:\tlearn: 1501.0840604\ttotal: 11s\tremaining: 13.4s\n",
            "90:\tlearn: 1497.4894772\ttotal: 11.1s\tremaining: 13.3s\n",
            "91:\tlearn: 1495.1930889\ttotal: 11.2s\tremaining: 13.1s\n",
            "92:\tlearn: 1492.7867039\ttotal: 11.3s\tremaining: 13s\n",
            "93:\tlearn: 1490.6692230\ttotal: 11.4s\tremaining: 12.9s\n",
            "94:\tlearn: 1489.9513665\ttotal: 11.6s\tremaining: 12.8s\n",
            "95:\tlearn: 1488.3237147\ttotal: 11.7s\tremaining: 12.7s\n",
            "96:\tlearn: 1486.2348466\ttotal: 11.8s\tremaining: 12.5s\n",
            "97:\tlearn: 1484.3300499\ttotal: 11.9s\tremaining: 12.4s\n",
            "98:\tlearn: 1482.8893327\ttotal: 12s\tremaining: 12.3s\n",
            "99:\tlearn: 1480.8716802\ttotal: 12.2s\tremaining: 12.2s\n",
            "100:\tlearn: 1479.5242936\ttotal: 12.3s\tremaining: 12.1s\n",
            "101:\tlearn: 1478.1378071\ttotal: 12.4s\tremaining: 11.9s\n",
            "102:\tlearn: 1476.0553657\ttotal: 12.6s\tremaining: 11.8s\n",
            "103:\tlearn: 1474.9691080\ttotal: 12.7s\tremaining: 11.7s\n",
            "104:\tlearn: 1474.1220379\ttotal: 12.8s\tremaining: 11.6s\n",
            "105:\tlearn: 1472.1480657\ttotal: 12.9s\tremaining: 11.5s\n",
            "106:\tlearn: 1471.0904082\ttotal: 13s\tremaining: 11.3s\n",
            "107:\tlearn: 1469.6863854\ttotal: 13.2s\tremaining: 11.2s\n",
            "108:\tlearn: 1468.1312476\ttotal: 13.3s\tremaining: 11.1s\n",
            "109:\tlearn: 1465.9711028\ttotal: 13.4s\tremaining: 11s\n",
            "110:\tlearn: 1465.2734723\ttotal: 13.5s\tremaining: 10.9s\n",
            "111:\tlearn: 1463.9866129\ttotal: 13.7s\tremaining: 10.7s\n",
            "112:\tlearn: 1463.0656373\ttotal: 13.8s\tremaining: 10.6s\n",
            "113:\tlearn: 1462.4379427\ttotal: 13.9s\tremaining: 10.5s\n",
            "114:\tlearn: 1460.6298675\ttotal: 14s\tremaining: 10.4s\n",
            "115:\tlearn: 1458.5989150\ttotal: 14.1s\tremaining: 10.2s\n",
            "116:\tlearn: 1457.1692357\ttotal: 14.3s\tremaining: 10.1s\n",
            "117:\tlearn: 1455.9095764\ttotal: 14.4s\tremaining: 10s\n",
            "118:\tlearn: 1454.9678136\ttotal: 14.5s\tremaining: 9.88s\n",
            "119:\tlearn: 1453.1502405\ttotal: 14.6s\tremaining: 9.76s\n",
            "120:\tlearn: 1450.9149809\ttotal: 14.8s\tremaining: 9.64s\n",
            "121:\tlearn: 1449.5481913\ttotal: 14.9s\tremaining: 9.52s\n",
            "122:\tlearn: 1448.5493657\ttotal: 15s\tremaining: 9.39s\n",
            "123:\tlearn: 1447.0378363\ttotal: 15.1s\tremaining: 9.27s\n",
            "124:\tlearn: 1446.1601675\ttotal: 15.2s\tremaining: 9.15s\n",
            "125:\tlearn: 1445.1983579\ttotal: 15.4s\tremaining: 9.03s\n",
            "126:\tlearn: 1444.2026408\ttotal: 15.5s\tremaining: 8.9s\n",
            "127:\tlearn: 1442.8649129\ttotal: 15.6s\tremaining: 8.78s\n",
            "128:\tlearn: 1442.2348908\ttotal: 15.7s\tremaining: 8.66s\n",
            "129:\tlearn: 1441.2205617\ttotal: 15.9s\tremaining: 8.54s\n",
            "130:\tlearn: 1440.4472141\ttotal: 16s\tremaining: 8.41s\n",
            "131:\tlearn: 1439.0539119\ttotal: 16.1s\tremaining: 8.29s\n",
            "132:\tlearn: 1437.6479736\ttotal: 16.2s\tremaining: 8.17s\n",
            "133:\tlearn: 1435.3963031\ttotal: 16.3s\tremaining: 8.05s\n",
            "134:\tlearn: 1433.9335431\ttotal: 16.5s\tremaining: 7.93s\n",
            "135:\tlearn: 1432.7654516\ttotal: 16.6s\tremaining: 7.8s\n",
            "136:\tlearn: 1432.0368357\ttotal: 16.7s\tremaining: 7.68s\n",
            "137:\tlearn: 1429.7074789\ttotal: 16.8s\tremaining: 7.56s\n",
            "138:\tlearn: 1428.8624492\ttotal: 16.9s\tremaining: 7.44s\n",
            "139:\tlearn: 1428.1079617\ttotal: 17.1s\tremaining: 7.31s\n",
            "140:\tlearn: 1426.7507668\ttotal: 17.2s\tremaining: 7.19s\n",
            "141:\tlearn: 1426.0813588\ttotal: 17.3s\tremaining: 7.07s\n",
            "142:\tlearn: 1424.4648999\ttotal: 17.4s\tremaining: 6.95s\n",
            "143:\tlearn: 1423.1920661\ttotal: 17.6s\tremaining: 6.83s\n",
            "144:\tlearn: 1422.3931397\ttotal: 17.7s\tremaining: 6.7s\n",
            "145:\tlearn: 1421.4954412\ttotal: 17.8s\tremaining: 6.58s\n",
            "146:\tlearn: 1420.2170266\ttotal: 17.9s\tremaining: 6.46s\n",
            "147:\tlearn: 1419.6501459\ttotal: 18s\tremaining: 6.33s\n",
            "148:\tlearn: 1418.3831264\ttotal: 18.1s\tremaining: 6.21s\n",
            "149:\tlearn: 1417.8133119\ttotal: 18.3s\tremaining: 6.09s\n",
            "150:\tlearn: 1417.0836103\ttotal: 18.4s\tremaining: 5.97s\n",
            "151:\tlearn: 1415.9017016\ttotal: 18.5s\tremaining: 5.84s\n",
            "152:\tlearn: 1414.8338832\ttotal: 18.6s\tremaining: 5.72s\n",
            "153:\tlearn: 1412.7699749\ttotal: 18.8s\tremaining: 5.6s\n",
            "154:\tlearn: 1411.7140638\ttotal: 18.9s\tremaining: 5.48s\n",
            "155:\tlearn: 1410.7678964\ttotal: 19s\tremaining: 5.36s\n",
            "156:\tlearn: 1410.3203278\ttotal: 19.1s\tremaining: 5.24s\n",
            "157:\tlearn: 1409.4005430\ttotal: 19.2s\tremaining: 5.12s\n",
            "158:\tlearn: 1408.4171859\ttotal: 19.4s\tremaining: 5s\n",
            "159:\tlearn: 1407.7303735\ttotal: 19.5s\tremaining: 4.88s\n",
            "160:\tlearn: 1406.2844640\ttotal: 19.6s\tremaining: 4.76s\n",
            "161:\tlearn: 1405.7565012\ttotal: 19.8s\tremaining: 4.63s\n",
            "162:\tlearn: 1404.7328210\ttotal: 19.9s\tremaining: 4.51s\n",
            "163:\tlearn: 1404.6886009\ttotal: 19.9s\tremaining: 4.37s\n",
            "164:\tlearn: 1404.1785584\ttotal: 20s\tremaining: 4.25s\n",
            "165:\tlearn: 1403.2187316\ttotal: 20.2s\tremaining: 4.13s\n",
            "166:\tlearn: 1400.4420404\ttotal: 20.3s\tremaining: 4.01s\n",
            "167:\tlearn: 1398.9747915\ttotal: 20.4s\tremaining: 3.89s\n",
            "168:\tlearn: 1398.2731763\ttotal: 20.5s\tremaining: 3.77s\n",
            "169:\tlearn: 1397.0580772\ttotal: 20.7s\tremaining: 3.65s\n",
            "170:\tlearn: 1396.5404626\ttotal: 20.8s\tremaining: 3.52s\n",
            "171:\tlearn: 1395.9441531\ttotal: 20.9s\tremaining: 3.4s\n",
            "172:\tlearn: 1394.8673825\ttotal: 21s\tremaining: 3.28s\n",
            "173:\tlearn: 1394.2529210\ttotal: 21.1s\tremaining: 3.16s\n",
            "174:\tlearn: 1393.5944742\ttotal: 21.3s\tremaining: 3.04s\n",
            "175:\tlearn: 1392.1203989\ttotal: 21.4s\tremaining: 2.92s\n",
            "176:\tlearn: 1391.3024182\ttotal: 21.5s\tremaining: 2.79s\n",
            "177:\tlearn: 1390.6831773\ttotal: 21.6s\tremaining: 2.67s\n",
            "178:\tlearn: 1389.9379049\ttotal: 21.8s\tremaining: 2.55s\n",
            "179:\tlearn: 1388.9148457\ttotal: 21.9s\tremaining: 2.43s\n",
            "180:\tlearn: 1387.6457787\ttotal: 22s\tremaining: 2.31s\n",
            "181:\tlearn: 1386.9334775\ttotal: 22.1s\tremaining: 2.19s\n",
            "182:\tlearn: 1385.3597835\ttotal: 22.3s\tremaining: 2.07s\n",
            "183:\tlearn: 1384.3961800\ttotal: 22.4s\tremaining: 1.95s\n",
            "184:\tlearn: 1383.6093991\ttotal: 22.5s\tremaining: 1.82s\n",
            "185:\tlearn: 1383.1118650\ttotal: 22.6s\tremaining: 1.7s\n",
            "186:\tlearn: 1382.3610870\ttotal: 22.7s\tremaining: 1.58s\n",
            "187:\tlearn: 1381.7135478\ttotal: 22.9s\tremaining: 1.46s\n",
            "188:\tlearn: 1380.2614826\ttotal: 23s\tremaining: 1.34s\n",
            "189:\tlearn: 1379.3099885\ttotal: 23.1s\tremaining: 1.22s\n",
            "190:\tlearn: 1378.7708417\ttotal: 23.2s\tremaining: 1.09s\n",
            "191:\tlearn: 1377.9359902\ttotal: 23.3s\tremaining: 972ms\n",
            "192:\tlearn: 1377.1253276\ttotal: 23.5s\tremaining: 851ms\n",
            "193:\tlearn: 1375.6083546\ttotal: 23.6s\tremaining: 729ms\n",
            "194:\tlearn: 1374.8411609\ttotal: 23.7s\tremaining: 608ms\n",
            "195:\tlearn: 1373.3585472\ttotal: 23.8s\tremaining: 486ms\n",
            "196:\tlearn: 1372.8359614\ttotal: 23.9s\tremaining: 365ms\n",
            "197:\tlearn: 1371.7140720\ttotal: 24.1s\tremaining: 243ms\n",
            "198:\tlearn: 1371.0244242\ttotal: 24.2s\tremaining: 122ms\n",
            "199:\tlearn: 1370.5984737\ttotal: 24.3s\tremaining: 0us\n"
          ],
          "name": "stdout"
        }
      ]
    },
    {
      "cell_type": "code",
      "metadata": {
        "id": "0LpAaJViuKxO",
        "colab": {
          "base_uri": "https://localhost:8080/",
          "height": 173
        },
        "outputId": "46c38212-14ce-46d0-95df-98dc74ae8297"
      },
      "source": [
        "results"
      ],
      "execution_count": null,
      "outputs": [
        {
          "output_type": "execute_result",
          "data": {
            "text/html": [
              "<div>\n",
              "<style scoped>\n",
              "    .dataframe tbody tr th:only-of-type {\n",
              "        vertical-align: middle;\n",
              "    }\n",
              "\n",
              "    .dataframe tbody tr th {\n",
              "        vertical-align: top;\n",
              "    }\n",
              "\n",
              "    .dataframe thead th {\n",
              "        text-align: right;\n",
              "    }\n",
              "</style>\n",
              "<table border=\"1\" class=\"dataframe\">\n",
              "  <thead>\n",
              "    <tr style=\"text-align: right;\">\n",
              "      <th></th>\n",
              "      <th>Модель</th>\n",
              "      <th>Гиперпараметры</th>\n",
              "      <th>Время обучения, сек</th>\n",
              "      <th>Время предсказания, сек</th>\n",
              "      <th>Метрика RMSE, евро</th>\n",
              "    </tr>\n",
              "  </thead>\n",
              "  <tbody>\n",
              "    <tr>\n",
              "      <th>0</th>\n",
              "      <td>LinearRegression</td>\n",
              "      <td>(ColumnTransformer(remainder='passthrough',\\n ...</td>\n",
              "      <td>2.56</td>\n",
              "      <td>0.02</td>\n",
              "      <td>3144.118692</td>\n",
              "    </tr>\n",
              "    <tr>\n",
              "      <th>0</th>\n",
              "      <td>RandomForestRegressor</td>\n",
              "      <td>(ColumnTransformer(remainder='passthrough',\\n ...</td>\n",
              "      <td>309.46</td>\n",
              "      <td>2.36</td>\n",
              "      <td>1676.311629</td>\n",
              "    </tr>\n",
              "    <tr>\n",
              "      <th>0</th>\n",
              "      <td>LGBMRegressor</td>\n",
              "      <td>(ColumnTransformer(remainder='passthrough',\\n ...</td>\n",
              "      <td>10.01</td>\n",
              "      <td>0.23</td>\n",
              "      <td>1701.669542</td>\n",
              "    </tr>\n",
              "    <tr>\n",
              "      <th>0</th>\n",
              "      <td>CatBoostRegressor</td>\n",
              "      <td>(ColumnTransformer(remainder='passthrough',\\n ...</td>\n",
              "      <td>139.95</td>\n",
              "      <td>0.08</td>\n",
              "      <td>1658.281026</td>\n",
              "    </tr>\n",
              "  </tbody>\n",
              "</table>\n",
              "</div>"
            ],
            "text/plain": [
              "                  Модель  ... Метрика RMSE, евро\n",
              "0       LinearRegression  ...        3144.118692\n",
              "0  RandomForestRegressor  ...        1676.311629\n",
              "0          LGBMRegressor  ...        1701.669542\n",
              "0      CatBoostRegressor  ...        1658.281026\n",
              "\n",
              "[4 rows x 5 columns]"
            ]
          },
          "metadata": {
            "tags": []
          },
          "execution_count": 40
        }
      ]
    },
    {
      "cell_type": "markdown",
      "metadata": {
        "id": "ydGwI-3KuKxO"
      },
      "source": [
        "## Dummy Regression"
      ]
    },
    {
      "cell_type": "code",
      "metadata": {
        "id": "Il2VQyRWuKxO"
      },
      "source": [
        "# Обучим Dummy модельб выбрав медиану как стратегию предсказания\n",
        "dum = DummyRegressor(strategy = 'median').fit(X_train, y_train)\n",
        "y_pred = dum.predict(X_test)"
      ],
      "execution_count": null,
      "outputs": []
    },
    {
      "cell_type": "code",
      "metadata": {
        "id": "wuQSa34nuKxO",
        "colab": {
          "base_uri": "https://localhost:8080/"
        },
        "outputId": "5a005796-e848-4edd-a72c-d04a441c268f"
      },
      "source": [
        "mean_squared_error(y_test, y_pred)**0.5"
      ],
      "execution_count": null,
      "outputs": [
        {
          "output_type": "execute_result",
          "data": {
            "text/plain": [
              "4802.361835538281"
            ]
          },
          "metadata": {
            "tags": []
          },
          "execution_count": 42
        }
      ]
    },
    {
      "cell_type": "markdown",
      "metadata": {
        "id": "cMdyBHpcuKxO"
      },
      "source": [
        "## Анализ моделей"
      ]
    },
    {
      "cell_type": "markdown",
      "metadata": {
        "id": "DkzAtw4uuKxP"
      },
      "source": [
        "Мы провели сравнительный анализ метрик моделей разных категорий: референсная Dummy модель, Линейная регрессия, Лес и модель градиентного спуска LGBM. По результатам исследований выявили, что погрешность предскзаания Леса ниже (1679 евро), чем у других моделей, но требуется заметно больше времени на обучение (352 секунда) и на предсказание (2,22 секунды),модель градиентного спуска LGBM обучается быстрей (86 секунды) и быстрей предсказывает (менее 1 секунды), но точность на 100 евро хуже (1780 евро), чем у Леса."
      ]
    },
    {
      "cell_type": "markdown",
      "metadata": {
        "id": "hAE9_74EuKxP"
      },
      "source": [
        "При условии, что Заказчику важны все 3 параметра (точность предсказания, время предсказания и время обучения) для определения стоимости, то считаю, что можно использовать модель LGBM."
      ]
    }
  ]
}
